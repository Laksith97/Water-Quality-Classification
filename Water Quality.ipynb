{
 "cells": [
  {
   "cell_type": "code",
   "execution_count": 1,
   "id": "8177a530",
   "metadata": {},
   "outputs": [],
   "source": [
    "# Importing Libraries\n",
    "\n",
    "import numpy as np\n",
    "import pandas as pd\n",
    "import matplotlib.pyplot as plt"
   ]
  },
  {
   "cell_type": "code",
   "execution_count": 2,
   "id": "bf7b65f9",
   "metadata": {},
   "outputs": [],
   "source": [
    "# Loading Dataset\n",
    "\n",
    "data = pd.read_csv('waterQuality1.csv')"
   ]
  },
  {
   "cell_type": "code",
   "execution_count": 3,
   "id": "d1838775",
   "metadata": {},
   "outputs": [
    {
     "data": {
      "text/html": [
       "<div>\n",
       "<style scoped>\n",
       "    .dataframe tbody tr th:only-of-type {\n",
       "        vertical-align: middle;\n",
       "    }\n",
       "\n",
       "    .dataframe tbody tr th {\n",
       "        vertical-align: top;\n",
       "    }\n",
       "\n",
       "    .dataframe thead th {\n",
       "        text-align: right;\n",
       "    }\n",
       "</style>\n",
       "<table border=\"1\" class=\"dataframe\">\n",
       "  <thead>\n",
       "    <tr style=\"text-align: right;\">\n",
       "      <th></th>\n",
       "      <th>aluminium</th>\n",
       "      <th>ammonia</th>\n",
       "      <th>arsenic</th>\n",
       "      <th>barium</th>\n",
       "      <th>cadmium</th>\n",
       "      <th>chloramine</th>\n",
       "      <th>chromium</th>\n",
       "      <th>copper</th>\n",
       "      <th>flouride</th>\n",
       "      <th>bacteria</th>\n",
       "      <th>...</th>\n",
       "      <th>lead</th>\n",
       "      <th>nitrates</th>\n",
       "      <th>nitrites</th>\n",
       "      <th>mercury</th>\n",
       "      <th>perchlorate</th>\n",
       "      <th>radium</th>\n",
       "      <th>selenium</th>\n",
       "      <th>silver</th>\n",
       "      <th>uranium</th>\n",
       "      <th>is_safe</th>\n",
       "    </tr>\n",
       "  </thead>\n",
       "  <tbody>\n",
       "    <tr>\n",
       "      <th>0</th>\n",
       "      <td>1.65</td>\n",
       "      <td>9.08</td>\n",
       "      <td>0.04</td>\n",
       "      <td>2.85</td>\n",
       "      <td>0.007</td>\n",
       "      <td>0.35</td>\n",
       "      <td>0.83</td>\n",
       "      <td>0.17</td>\n",
       "      <td>0.05</td>\n",
       "      <td>0.20</td>\n",
       "      <td>...</td>\n",
       "      <td>0.054</td>\n",
       "      <td>16.08</td>\n",
       "      <td>1.13</td>\n",
       "      <td>0.007</td>\n",
       "      <td>37.75</td>\n",
       "      <td>6.78</td>\n",
       "      <td>0.08</td>\n",
       "      <td>0.34</td>\n",
       "      <td>0.02</td>\n",
       "      <td>1</td>\n",
       "    </tr>\n",
       "    <tr>\n",
       "      <th>1</th>\n",
       "      <td>2.32</td>\n",
       "      <td>21.16</td>\n",
       "      <td>0.01</td>\n",
       "      <td>3.31</td>\n",
       "      <td>0.002</td>\n",
       "      <td>5.28</td>\n",
       "      <td>0.68</td>\n",
       "      <td>0.66</td>\n",
       "      <td>0.90</td>\n",
       "      <td>0.65</td>\n",
       "      <td>...</td>\n",
       "      <td>0.100</td>\n",
       "      <td>2.01</td>\n",
       "      <td>1.93</td>\n",
       "      <td>0.003</td>\n",
       "      <td>32.26</td>\n",
       "      <td>3.21</td>\n",
       "      <td>0.08</td>\n",
       "      <td>0.27</td>\n",
       "      <td>0.05</td>\n",
       "      <td>1</td>\n",
       "    </tr>\n",
       "    <tr>\n",
       "      <th>2</th>\n",
       "      <td>1.01</td>\n",
       "      <td>14.02</td>\n",
       "      <td>0.04</td>\n",
       "      <td>0.58</td>\n",
       "      <td>0.008</td>\n",
       "      <td>4.24</td>\n",
       "      <td>0.53</td>\n",
       "      <td>0.02</td>\n",
       "      <td>0.99</td>\n",
       "      <td>0.05</td>\n",
       "      <td>...</td>\n",
       "      <td>0.078</td>\n",
       "      <td>14.16</td>\n",
       "      <td>1.11</td>\n",
       "      <td>0.006</td>\n",
       "      <td>50.28</td>\n",
       "      <td>7.07</td>\n",
       "      <td>0.07</td>\n",
       "      <td>0.44</td>\n",
       "      <td>0.01</td>\n",
       "      <td>0</td>\n",
       "    </tr>\n",
       "    <tr>\n",
       "      <th>3</th>\n",
       "      <td>1.36</td>\n",
       "      <td>11.33</td>\n",
       "      <td>0.04</td>\n",
       "      <td>2.96</td>\n",
       "      <td>0.001</td>\n",
       "      <td>7.23</td>\n",
       "      <td>0.03</td>\n",
       "      <td>1.66</td>\n",
       "      <td>1.08</td>\n",
       "      <td>0.71</td>\n",
       "      <td>...</td>\n",
       "      <td>0.016</td>\n",
       "      <td>1.41</td>\n",
       "      <td>1.29</td>\n",
       "      <td>0.004</td>\n",
       "      <td>9.12</td>\n",
       "      <td>1.72</td>\n",
       "      <td>0.02</td>\n",
       "      <td>0.45</td>\n",
       "      <td>0.05</td>\n",
       "      <td>1</td>\n",
       "    </tr>\n",
       "    <tr>\n",
       "      <th>4</th>\n",
       "      <td>0.92</td>\n",
       "      <td>24.33</td>\n",
       "      <td>0.03</td>\n",
       "      <td>0.20</td>\n",
       "      <td>0.006</td>\n",
       "      <td>2.67</td>\n",
       "      <td>0.69</td>\n",
       "      <td>0.57</td>\n",
       "      <td>0.61</td>\n",
       "      <td>0.13</td>\n",
       "      <td>...</td>\n",
       "      <td>0.117</td>\n",
       "      <td>6.74</td>\n",
       "      <td>1.11</td>\n",
       "      <td>0.003</td>\n",
       "      <td>16.90</td>\n",
       "      <td>2.41</td>\n",
       "      <td>0.02</td>\n",
       "      <td>0.06</td>\n",
       "      <td>0.02</td>\n",
       "      <td>1</td>\n",
       "    </tr>\n",
       "  </tbody>\n",
       "</table>\n",
       "<p>5 rows × 21 columns</p>\n",
       "</div>"
      ],
      "text/plain": [
       "   aluminium ammonia  arsenic  barium  cadmium  chloramine  chromium  copper  \\\n",
       "0       1.65    9.08     0.04    2.85    0.007        0.35      0.83    0.17   \n",
       "1       2.32   21.16     0.01    3.31    0.002        5.28      0.68    0.66   \n",
       "2       1.01   14.02     0.04    0.58    0.008        4.24      0.53    0.02   \n",
       "3       1.36   11.33     0.04    2.96    0.001        7.23      0.03    1.66   \n",
       "4       0.92   24.33     0.03    0.20    0.006        2.67      0.69    0.57   \n",
       "\n",
       "   flouride  bacteria  ...   lead  nitrates  nitrites  mercury  perchlorate  \\\n",
       "0      0.05      0.20  ...  0.054     16.08      1.13    0.007        37.75   \n",
       "1      0.90      0.65  ...  0.100      2.01      1.93    0.003        32.26   \n",
       "2      0.99      0.05  ...  0.078     14.16      1.11    0.006        50.28   \n",
       "3      1.08      0.71  ...  0.016      1.41      1.29    0.004         9.12   \n",
       "4      0.61      0.13  ...  0.117      6.74      1.11    0.003        16.90   \n",
       "\n",
       "   radium  selenium  silver  uranium  is_safe  \n",
       "0    6.78      0.08    0.34     0.02        1  \n",
       "1    3.21      0.08    0.27     0.05        1  \n",
       "2    7.07      0.07    0.44     0.01        0  \n",
       "3    1.72      0.02    0.45     0.05        1  \n",
       "4    2.41      0.02    0.06     0.02        1  \n",
       "\n",
       "[5 rows x 21 columns]"
      ]
     },
     "execution_count": 3,
     "metadata": {},
     "output_type": "execute_result"
    }
   ],
   "source": [
    "# To see first set of values\n",
    "\n",
    "data.head()"
   ]
  },
  {
   "cell_type": "markdown",
   "id": "8cfdcc82",
   "metadata": {},
   "source": [
    "# Data Pre-processing"
   ]
  },
  {
   "cell_type": "code",
   "execution_count": 4,
   "id": "c5e16499",
   "metadata": {},
   "outputs": [
    {
     "data": {
      "text/plain": [
       "(7999, 21)"
      ]
     },
     "execution_count": 4,
     "metadata": {},
     "output_type": "execute_result"
    }
   ],
   "source": [
    "# Shape of the dataset: rows,columns\n",
    "\n",
    "data.shape"
   ]
  },
  {
   "cell_type": "code",
   "execution_count": 5,
   "id": "3bfb3254",
   "metadata": {},
   "outputs": [
    {
     "data": {
      "text/plain": [
       "0"
      ]
     },
     "execution_count": 5,
     "metadata": {},
     "output_type": "execute_result"
    }
   ],
   "source": [
    "# To see count of duplicated rows\n",
    "\n",
    "data.duplicated().sum()"
   ]
  },
  {
   "cell_type": "code",
   "execution_count": 6,
   "id": "5a36bb7e",
   "metadata": {},
   "outputs": [
    {
     "data": {
      "text/plain": [
       "aluminium      0\n",
       "ammonia        0\n",
       "arsenic        0\n",
       "barium         0\n",
       "cadmium        0\n",
       "chloramine     0\n",
       "chromium       0\n",
       "copper         0\n",
       "flouride       0\n",
       "bacteria       0\n",
       "viruses        0\n",
       "lead           0\n",
       "nitrates       0\n",
       "nitrites       0\n",
       "mercury        0\n",
       "perchlorate    0\n",
       "radium         0\n",
       "selenium       0\n",
       "silver         0\n",
       "uranium        0\n",
       "is_safe        0\n",
       "dtype: int64"
      ]
     },
     "execution_count": 6,
     "metadata": {},
     "output_type": "execute_result"
    }
   ],
   "source": [
    "# To see missing values of each columns\n",
    "\n",
    "data.isnull().sum()"
   ]
  },
  {
   "cell_type": "code",
   "execution_count": 7,
   "id": "1ae52018",
   "metadata": {},
   "outputs": [
    {
     "name": "stdout",
     "output_type": "stream",
     "text": [
      "<class 'pandas.core.frame.DataFrame'>\n",
      "RangeIndex: 7999 entries, 0 to 7998\n",
      "Data columns (total 21 columns):\n",
      " #   Column       Non-Null Count  Dtype  \n",
      "---  ------       --------------  -----  \n",
      " 0   aluminium    7999 non-null   float64\n",
      " 1   ammonia      7999 non-null   object \n",
      " 2   arsenic      7999 non-null   float64\n",
      " 3   barium       7999 non-null   float64\n",
      " 4   cadmium      7999 non-null   float64\n",
      " 5   chloramine   7999 non-null   float64\n",
      " 6   chromium     7999 non-null   float64\n",
      " 7   copper       7999 non-null   float64\n",
      " 8   flouride     7999 non-null   float64\n",
      " 9   bacteria     7999 non-null   float64\n",
      " 10  viruses      7999 non-null   float64\n",
      " 11  lead         7999 non-null   float64\n",
      " 12  nitrates     7999 non-null   float64\n",
      " 13  nitrites     7999 non-null   float64\n",
      " 14  mercury      7999 non-null   float64\n",
      " 15  perchlorate  7999 non-null   float64\n",
      " 16  radium       7999 non-null   float64\n",
      " 17  selenium     7999 non-null   float64\n",
      " 18  silver       7999 non-null   float64\n",
      " 19  uranium      7999 non-null   float64\n",
      " 20  is_safe      7999 non-null   object \n",
      "dtypes: float64(19), object(2)\n",
      "memory usage: 1.3+ MB\n"
     ]
    }
   ],
   "source": [
    "data.info()"
   ]
  },
  {
   "cell_type": "code",
   "execution_count": 8,
   "id": "6e0525ed",
   "metadata": {},
   "outputs": [],
   "source": [
    "# Dropping unnecessary columns\n",
    "\n",
    "data.drop(data.columns[[3,5,6,7,11,13,15,17,18,19]], axis=1, inplace=True)"
   ]
  },
  {
   "cell_type": "code",
   "execution_count": 9,
   "id": "356268a0",
   "metadata": {},
   "outputs": [
    {
     "name": "stdout",
     "output_type": "stream",
     "text": [
      "Index(['ammonia', 'is_safe'], dtype='object')\n"
     ]
    }
   ],
   "source": [
    "# Identifying invalid values like: \"#NUM!\"\n",
    "\n",
    "non_numeric_values = data.select_dtypes(exclude=np.number).columns\n",
    "print(non_numeric_values)"
   ]
  },
  {
   "cell_type": "code",
   "execution_count": 10,
   "id": "350505a6",
   "metadata": {},
   "outputs": [
    {
     "data": {
      "text/html": [
       "<div>\n",
       "<style scoped>\n",
       "    .dataframe tbody tr th:only-of-type {\n",
       "        vertical-align: middle;\n",
       "    }\n",
       "\n",
       "    .dataframe tbody tr th {\n",
       "        vertical-align: top;\n",
       "    }\n",
       "\n",
       "    .dataframe thead th {\n",
       "        text-align: right;\n",
       "    }\n",
       "</style>\n",
       "<table border=\"1\" class=\"dataframe\">\n",
       "  <thead>\n",
       "    <tr style=\"text-align: right;\">\n",
       "      <th></th>\n",
       "      <th>aluminium</th>\n",
       "      <th>ammonia</th>\n",
       "      <th>arsenic</th>\n",
       "      <th>cadmium</th>\n",
       "      <th>flouride</th>\n",
       "      <th>bacteria</th>\n",
       "      <th>viruses</th>\n",
       "      <th>nitrates</th>\n",
       "      <th>mercury</th>\n",
       "      <th>radium</th>\n",
       "      <th>is_safe</th>\n",
       "    </tr>\n",
       "  </thead>\n",
       "  <tbody>\n",
       "    <tr>\n",
       "      <th>7551</th>\n",
       "      <td>0.03</td>\n",
       "      <td>#NUM!</td>\n",
       "      <td>0.08</td>\n",
       "      <td>0.07</td>\n",
       "      <td>0.34</td>\n",
       "      <td>0.00</td>\n",
       "      <td>0.0</td>\n",
       "      <td>4.37</td>\n",
       "      <td>0.007</td>\n",
       "      <td>2.54</td>\n",
       "      <td>#NUM!</td>\n",
       "    </tr>\n",
       "    <tr>\n",
       "      <th>7568</th>\n",
       "      <td>0.06</td>\n",
       "      <td>#NUM!</td>\n",
       "      <td>0.07</td>\n",
       "      <td>0.08</td>\n",
       "      <td>0.61</td>\n",
       "      <td>0.00</td>\n",
       "      <td>0.0</td>\n",
       "      <td>12.10</td>\n",
       "      <td>0.008</td>\n",
       "      <td>2.05</td>\n",
       "      <td>#NUM!</td>\n",
       "    </tr>\n",
       "    <tr>\n",
       "      <th>7890</th>\n",
       "      <td>0.01</td>\n",
       "      <td>#NUM!</td>\n",
       "      <td>0.08</td>\n",
       "      <td>0.00</td>\n",
       "      <td>0.72</td>\n",
       "      <td>0.57</td>\n",
       "      <td>0.0</td>\n",
       "      <td>9.57</td>\n",
       "      <td>0.009</td>\n",
       "      <td>7.70</td>\n",
       "      <td>#NUM!</td>\n",
       "    </tr>\n",
       "  </tbody>\n",
       "</table>\n",
       "</div>"
      ],
      "text/plain": [
       "      aluminium ammonia  arsenic  cadmium  flouride  bacteria  viruses  \\\n",
       "7551       0.03   #NUM!     0.08     0.07      0.34      0.00      0.0   \n",
       "7568       0.06   #NUM!     0.07     0.08      0.61      0.00      0.0   \n",
       "7890       0.01   #NUM!     0.08     0.00      0.72      0.57      0.0   \n",
       "\n",
       "      nitrates  mercury  radium is_safe  \n",
       "7551      4.37    0.007    2.54   #NUM!  \n",
       "7568     12.10    0.008    2.05   #NUM!  \n",
       "7890      9.57    0.009    7.70   #NUM!  "
      ]
     },
     "execution_count": 10,
     "metadata": {},
     "output_type": "execute_result"
    }
   ],
   "source": [
    "data[data[\"ammonia\"] == \"#NUM!\"]"
   ]
  },
  {
   "cell_type": "code",
   "execution_count": 11,
   "id": "37e678ba",
   "metadata": {},
   "outputs": [
    {
     "data": {
      "text/html": [
       "<div>\n",
       "<style scoped>\n",
       "    .dataframe tbody tr th:only-of-type {\n",
       "        vertical-align: middle;\n",
       "    }\n",
       "\n",
       "    .dataframe tbody tr th {\n",
       "        vertical-align: top;\n",
       "    }\n",
       "\n",
       "    .dataframe thead th {\n",
       "        text-align: right;\n",
       "    }\n",
       "</style>\n",
       "<table border=\"1\" class=\"dataframe\">\n",
       "  <thead>\n",
       "    <tr style=\"text-align: right;\">\n",
       "      <th></th>\n",
       "      <th>aluminium</th>\n",
       "      <th>ammonia</th>\n",
       "      <th>arsenic</th>\n",
       "      <th>cadmium</th>\n",
       "      <th>flouride</th>\n",
       "      <th>bacteria</th>\n",
       "      <th>viruses</th>\n",
       "      <th>nitrates</th>\n",
       "      <th>mercury</th>\n",
       "      <th>radium</th>\n",
       "      <th>is_safe</th>\n",
       "    </tr>\n",
       "  </thead>\n",
       "  <tbody>\n",
       "    <tr>\n",
       "      <th>7551</th>\n",
       "      <td>0.03</td>\n",
       "      <td>#NUM!</td>\n",
       "      <td>0.08</td>\n",
       "      <td>0.07</td>\n",
       "      <td>0.34</td>\n",
       "      <td>0.00</td>\n",
       "      <td>0.0</td>\n",
       "      <td>4.37</td>\n",
       "      <td>0.007</td>\n",
       "      <td>2.54</td>\n",
       "      <td>#NUM!</td>\n",
       "    </tr>\n",
       "    <tr>\n",
       "      <th>7568</th>\n",
       "      <td>0.06</td>\n",
       "      <td>#NUM!</td>\n",
       "      <td>0.07</td>\n",
       "      <td>0.08</td>\n",
       "      <td>0.61</td>\n",
       "      <td>0.00</td>\n",
       "      <td>0.0</td>\n",
       "      <td>12.10</td>\n",
       "      <td>0.008</td>\n",
       "      <td>2.05</td>\n",
       "      <td>#NUM!</td>\n",
       "    </tr>\n",
       "    <tr>\n",
       "      <th>7890</th>\n",
       "      <td>0.01</td>\n",
       "      <td>#NUM!</td>\n",
       "      <td>0.08</td>\n",
       "      <td>0.00</td>\n",
       "      <td>0.72</td>\n",
       "      <td>0.57</td>\n",
       "      <td>0.0</td>\n",
       "      <td>9.57</td>\n",
       "      <td>0.009</td>\n",
       "      <td>7.70</td>\n",
       "      <td>#NUM!</td>\n",
       "    </tr>\n",
       "  </tbody>\n",
       "</table>\n",
       "</div>"
      ],
      "text/plain": [
       "      aluminium ammonia  arsenic  cadmium  flouride  bacteria  viruses  \\\n",
       "7551       0.03   #NUM!     0.08     0.07      0.34      0.00      0.0   \n",
       "7568       0.06   #NUM!     0.07     0.08      0.61      0.00      0.0   \n",
       "7890       0.01   #NUM!     0.08     0.00      0.72      0.57      0.0   \n",
       "\n",
       "      nitrates  mercury  radium is_safe  \n",
       "7551      4.37    0.007    2.54   #NUM!  \n",
       "7568     12.10    0.008    2.05   #NUM!  \n",
       "7890      9.57    0.009    7.70   #NUM!  "
      ]
     },
     "execution_count": 11,
     "metadata": {},
     "output_type": "execute_result"
    }
   ],
   "source": [
    "data[data[\"is_safe\"] == \"#NUM!\"]"
   ]
  },
  {
   "cell_type": "code",
   "execution_count": 12,
   "id": "ba26e069",
   "metadata": {},
   "outputs": [],
   "source": [
    "# Removing rows of invalid values\n",
    "\n",
    "data.drop([7551,7568,7890], axis=0, inplace = True)"
   ]
  },
  {
   "cell_type": "code",
   "execution_count": 13,
   "id": "79133693",
   "metadata": {},
   "outputs": [],
   "source": [
    "data['ammonia'] = data['ammonia'].astype(float)\n",
    "data['is_safe'] = data['is_safe'].astype(int)"
   ]
  },
  {
   "cell_type": "code",
   "execution_count": 14,
   "id": "f8d1ccfb",
   "metadata": {},
   "outputs": [
    {
     "data": {
      "text/plain": [
       "(7996, 11)"
      ]
     },
     "execution_count": 14,
     "metadata": {},
     "output_type": "execute_result"
    }
   ],
   "source": [
    "# New shape\n",
    "\n",
    "data.shape"
   ]
  },
  {
   "cell_type": "code",
   "execution_count": 15,
   "id": "eaf74d11",
   "metadata": {},
   "outputs": [
    {
     "data": {
      "text/html": [
       "<div>\n",
       "<style scoped>\n",
       "    .dataframe tbody tr th:only-of-type {\n",
       "        vertical-align: middle;\n",
       "    }\n",
       "\n",
       "    .dataframe tbody tr th {\n",
       "        vertical-align: top;\n",
       "    }\n",
       "\n",
       "    .dataframe thead th {\n",
       "        text-align: right;\n",
       "    }\n",
       "</style>\n",
       "<table border=\"1\" class=\"dataframe\">\n",
       "  <thead>\n",
       "    <tr style=\"text-align: right;\">\n",
       "      <th></th>\n",
       "      <th>aluminium</th>\n",
       "      <th>ammonia</th>\n",
       "      <th>arsenic</th>\n",
       "      <th>cadmium</th>\n",
       "      <th>flouride</th>\n",
       "      <th>bacteria</th>\n",
       "      <th>viruses</th>\n",
       "      <th>nitrates</th>\n",
       "      <th>mercury</th>\n",
       "      <th>radium</th>\n",
       "      <th>is_safe</th>\n",
       "    </tr>\n",
       "  </thead>\n",
       "  <tbody>\n",
       "    <tr>\n",
       "      <th>0</th>\n",
       "      <td>1.65</td>\n",
       "      <td>9.08</td>\n",
       "      <td>0.04</td>\n",
       "      <td>0.007</td>\n",
       "      <td>0.05</td>\n",
       "      <td>0.20</td>\n",
       "      <td>0.000</td>\n",
       "      <td>16.08</td>\n",
       "      <td>0.007</td>\n",
       "      <td>6.78</td>\n",
       "      <td>1</td>\n",
       "    </tr>\n",
       "    <tr>\n",
       "      <th>1</th>\n",
       "      <td>2.32</td>\n",
       "      <td>21.16</td>\n",
       "      <td>0.01</td>\n",
       "      <td>0.002</td>\n",
       "      <td>0.90</td>\n",
       "      <td>0.65</td>\n",
       "      <td>0.650</td>\n",
       "      <td>2.01</td>\n",
       "      <td>0.003</td>\n",
       "      <td>3.21</td>\n",
       "      <td>1</td>\n",
       "    </tr>\n",
       "    <tr>\n",
       "      <th>2</th>\n",
       "      <td>1.01</td>\n",
       "      <td>14.02</td>\n",
       "      <td>0.04</td>\n",
       "      <td>0.008</td>\n",
       "      <td>0.99</td>\n",
       "      <td>0.05</td>\n",
       "      <td>0.003</td>\n",
       "      <td>14.16</td>\n",
       "      <td>0.006</td>\n",
       "      <td>7.07</td>\n",
       "      <td>0</td>\n",
       "    </tr>\n",
       "    <tr>\n",
       "      <th>3</th>\n",
       "      <td>1.36</td>\n",
       "      <td>11.33</td>\n",
       "      <td>0.04</td>\n",
       "      <td>0.001</td>\n",
       "      <td>1.08</td>\n",
       "      <td>0.71</td>\n",
       "      <td>0.710</td>\n",
       "      <td>1.41</td>\n",
       "      <td>0.004</td>\n",
       "      <td>1.72</td>\n",
       "      <td>1</td>\n",
       "    </tr>\n",
       "    <tr>\n",
       "      <th>4</th>\n",
       "      <td>0.92</td>\n",
       "      <td>24.33</td>\n",
       "      <td>0.03</td>\n",
       "      <td>0.006</td>\n",
       "      <td>0.61</td>\n",
       "      <td>0.13</td>\n",
       "      <td>0.001</td>\n",
       "      <td>6.74</td>\n",
       "      <td>0.003</td>\n",
       "      <td>2.41</td>\n",
       "      <td>1</td>\n",
       "    </tr>\n",
       "    <tr>\n",
       "      <th>5</th>\n",
       "      <td>0.94</td>\n",
       "      <td>14.47</td>\n",
       "      <td>0.03</td>\n",
       "      <td>0.003</td>\n",
       "      <td>0.11</td>\n",
       "      <td>0.67</td>\n",
       "      <td>0.670</td>\n",
       "      <td>9.75</td>\n",
       "      <td>0.006</td>\n",
       "      <td>5.42</td>\n",
       "      <td>1</td>\n",
       "    </tr>\n",
       "    <tr>\n",
       "      <th>6</th>\n",
       "      <td>2.36</td>\n",
       "      <td>5.60</td>\n",
       "      <td>0.01</td>\n",
       "      <td>0.004</td>\n",
       "      <td>0.33</td>\n",
       "      <td>0.13</td>\n",
       "      <td>0.007</td>\n",
       "      <td>18.60</td>\n",
       "      <td>0.007</td>\n",
       "      <td>2.84</td>\n",
       "      <td>0</td>\n",
       "    </tr>\n",
       "    <tr>\n",
       "      <th>7</th>\n",
       "      <td>3.93</td>\n",
       "      <td>19.87</td>\n",
       "      <td>0.04</td>\n",
       "      <td>0.001</td>\n",
       "      <td>0.86</td>\n",
       "      <td>0.16</td>\n",
       "      <td>0.005</td>\n",
       "      <td>13.65</td>\n",
       "      <td>0.001</td>\n",
       "      <td>7.24</td>\n",
       "      <td>0</td>\n",
       "    </tr>\n",
       "    <tr>\n",
       "      <th>8</th>\n",
       "      <td>0.60</td>\n",
       "      <td>24.58</td>\n",
       "      <td>0.01</td>\n",
       "      <td>0.005</td>\n",
       "      <td>0.98</td>\n",
       "      <td>0.35</td>\n",
       "      <td>0.002</td>\n",
       "      <td>14.66</td>\n",
       "      <td>0.004</td>\n",
       "      <td>4.99</td>\n",
       "      <td>1</td>\n",
       "    </tr>\n",
       "    <tr>\n",
       "      <th>9</th>\n",
       "      <td>0.22</td>\n",
       "      <td>16.76</td>\n",
       "      <td>0.02</td>\n",
       "      <td>0.007</td>\n",
       "      <td>1.24</td>\n",
       "      <td>0.83</td>\n",
       "      <td>0.830</td>\n",
       "      <td>4.79</td>\n",
       "      <td>0.010</td>\n",
       "      <td>0.08</td>\n",
       "      <td>1</td>\n",
       "    </tr>\n",
       "  </tbody>\n",
       "</table>\n",
       "</div>"
      ],
      "text/plain": [
       "   aluminium  ammonia  arsenic  cadmium  flouride  bacteria  viruses  \\\n",
       "0       1.65     9.08     0.04    0.007      0.05      0.20    0.000   \n",
       "1       2.32    21.16     0.01    0.002      0.90      0.65    0.650   \n",
       "2       1.01    14.02     0.04    0.008      0.99      0.05    0.003   \n",
       "3       1.36    11.33     0.04    0.001      1.08      0.71    0.710   \n",
       "4       0.92    24.33     0.03    0.006      0.61      0.13    0.001   \n",
       "5       0.94    14.47     0.03    0.003      0.11      0.67    0.670   \n",
       "6       2.36     5.60     0.01    0.004      0.33      0.13    0.007   \n",
       "7       3.93    19.87     0.04    0.001      0.86      0.16    0.005   \n",
       "8       0.60    24.58     0.01    0.005      0.98      0.35    0.002   \n",
       "9       0.22    16.76     0.02    0.007      1.24      0.83    0.830   \n",
       "\n",
       "   nitrates  mercury  radium  is_safe  \n",
       "0     16.08    0.007    6.78        1  \n",
       "1      2.01    0.003    3.21        1  \n",
       "2     14.16    0.006    7.07        0  \n",
       "3      1.41    0.004    1.72        1  \n",
       "4      6.74    0.003    2.41        1  \n",
       "5      9.75    0.006    5.42        1  \n",
       "6     18.60    0.007    2.84        0  \n",
       "7     13.65    0.001    7.24        0  \n",
       "8     14.66    0.004    4.99        1  \n",
       "9      4.79    0.010    0.08        1  "
      ]
     },
     "execution_count": 15,
     "metadata": {},
     "output_type": "execute_result"
    }
   ],
   "source": [
    "data.head(10)"
   ]
  },
  {
   "cell_type": "markdown",
   "id": "65918a4d",
   "metadata": {},
   "source": [
    "# Split the dataset"
   ]
  },
  {
   "cell_type": "code",
   "execution_count": 16,
   "id": "0eb54475",
   "metadata": {},
   "outputs": [],
   "source": [
    "# for testing set, 20% of dataset\n"
   ]
  },
  {
   "cell_type": "code",
   "execution_count": 17,
   "id": "d912334f",
   "metadata": {},
   "outputs": [],
   "source": [
    "x = data.drop('is_safe', axis=1)\n",
    "y = data['is_safe']"
   ]
  },
  {
   "cell_type": "code",
   "execution_count": 18,
   "id": "52128fc5",
   "metadata": {},
   "outputs": [],
   "source": [
    "from sklearn.model_selection import train_test_split"
   ]
  },
  {
   "cell_type": "code",
   "execution_count": 19,
   "id": "2e1a13ff",
   "metadata": {},
   "outputs": [],
   "source": [
    "x_train, x_test, y_train, y_test = train_test_split(x, y, test_size=0.2, random_state=42) "
   ]
  },
  {
   "cell_type": "code",
   "execution_count": 20,
   "id": "7a5e819f",
   "metadata": {},
   "outputs": [
    {
     "data": {
      "text/html": [
       "<div>\n",
       "<style scoped>\n",
       "    .dataframe tbody tr th:only-of-type {\n",
       "        vertical-align: middle;\n",
       "    }\n",
       "\n",
       "    .dataframe tbody tr th {\n",
       "        vertical-align: top;\n",
       "    }\n",
       "\n",
       "    .dataframe thead th {\n",
       "        text-align: right;\n",
       "    }\n",
       "</style>\n",
       "<table border=\"1\" class=\"dataframe\">\n",
       "  <thead>\n",
       "    <tr style=\"text-align: right;\">\n",
       "      <th></th>\n",
       "      <th>aluminium</th>\n",
       "      <th>ammonia</th>\n",
       "      <th>arsenic</th>\n",
       "      <th>cadmium</th>\n",
       "      <th>flouride</th>\n",
       "      <th>bacteria</th>\n",
       "      <th>viruses</th>\n",
       "      <th>nitrates</th>\n",
       "      <th>mercury</th>\n",
       "      <th>radium</th>\n",
       "    </tr>\n",
       "  </thead>\n",
       "  <tbody>\n",
       "    <tr>\n",
       "      <th>5722</th>\n",
       "      <td>0.08</td>\n",
       "      <td>23.16</td>\n",
       "      <td>0.09</td>\n",
       "      <td>0.050</td>\n",
       "      <td>0.52</td>\n",
       "      <td>0.45</td>\n",
       "      <td>0.008</td>\n",
       "      <td>18.71</td>\n",
       "      <td>0.009</td>\n",
       "      <td>5.83</td>\n",
       "    </tr>\n",
       "    <tr>\n",
       "      <th>2337</th>\n",
       "      <td>0.01</td>\n",
       "      <td>23.34</td>\n",
       "      <td>0.04</td>\n",
       "      <td>0.002</td>\n",
       "      <td>0.88</td>\n",
       "      <td>0.59</td>\n",
       "      <td>0.590</td>\n",
       "      <td>6.40</td>\n",
       "      <td>0.003</td>\n",
       "      <td>1.75</td>\n",
       "    </tr>\n",
       "    <tr>\n",
       "      <th>1578</th>\n",
       "      <td>4.43</td>\n",
       "      <td>22.58</td>\n",
       "      <td>0.94</td>\n",
       "      <td>0.130</td>\n",
       "      <td>0.59</td>\n",
       "      <td>0.00</td>\n",
       "      <td>0.750</td>\n",
       "      <td>4.66</td>\n",
       "      <td>0.010</td>\n",
       "      <td>1.03</td>\n",
       "    </tr>\n",
       "    <tr>\n",
       "      <th>6523</th>\n",
       "      <td>0.10</td>\n",
       "      <td>19.21</td>\n",
       "      <td>0.05</td>\n",
       "      <td>0.070</td>\n",
       "      <td>1.16</td>\n",
       "      <td>0.94</td>\n",
       "      <td>0.940</td>\n",
       "      <td>4.18</td>\n",
       "      <td>0.008</td>\n",
       "      <td>1.53</td>\n",
       "    </tr>\n",
       "    <tr>\n",
       "      <th>7619</th>\n",
       "      <td>0.06</td>\n",
       "      <td>0.37</td>\n",
       "      <td>0.01</td>\n",
       "      <td>0.040</td>\n",
       "      <td>0.69</td>\n",
       "      <td>0.00</td>\n",
       "      <td>0.000</td>\n",
       "      <td>11.19</td>\n",
       "      <td>0.006</td>\n",
       "      <td>2.31</td>\n",
       "    </tr>\n",
       "    <tr>\n",
       "      <th>...</th>\n",
       "      <td>...</td>\n",
       "      <td>...</td>\n",
       "      <td>...</td>\n",
       "      <td>...</td>\n",
       "      <td>...</td>\n",
       "      <td>...</td>\n",
       "      <td>...</td>\n",
       "      <td>...</td>\n",
       "      <td>...</td>\n",
       "      <td>...</td>\n",
       "    </tr>\n",
       "    <tr>\n",
       "      <th>5226</th>\n",
       "      <td>0.07</td>\n",
       "      <td>16.98</td>\n",
       "      <td>0.08</td>\n",
       "      <td>0.090</td>\n",
       "      <td>0.21</td>\n",
       "      <td>0.00</td>\n",
       "      <td>0.610</td>\n",
       "      <td>3.15</td>\n",
       "      <td>0.010</td>\n",
       "      <td>4.19</td>\n",
       "    </tr>\n",
       "    <tr>\n",
       "      <th>5390</th>\n",
       "      <td>0.07</td>\n",
       "      <td>3.24</td>\n",
       "      <td>0.03</td>\n",
       "      <td>0.000</td>\n",
       "      <td>1.38</td>\n",
       "      <td>0.00</td>\n",
       "      <td>0.009</td>\n",
       "      <td>19.11</td>\n",
       "      <td>0.005</td>\n",
       "      <td>0.67</td>\n",
       "    </tr>\n",
       "    <tr>\n",
       "      <th>860</th>\n",
       "      <td>2.16</td>\n",
       "      <td>14.73</td>\n",
       "      <td>0.01</td>\n",
       "      <td>0.009</td>\n",
       "      <td>0.47</td>\n",
       "      <td>0.00</td>\n",
       "      <td>0.000</td>\n",
       "      <td>12.61</td>\n",
       "      <td>0.005</td>\n",
       "      <td>4.45</td>\n",
       "    </tr>\n",
       "    <tr>\n",
       "      <th>7605</th>\n",
       "      <td>0.05</td>\n",
       "      <td>7.99</td>\n",
       "      <td>0.04</td>\n",
       "      <td>0.100</td>\n",
       "      <td>0.41</td>\n",
       "      <td>0.00</td>\n",
       "      <td>0.000</td>\n",
       "      <td>19.82</td>\n",
       "      <td>0.001</td>\n",
       "      <td>0.76</td>\n",
       "    </tr>\n",
       "    <tr>\n",
       "      <th>7270</th>\n",
       "      <td>0.08</td>\n",
       "      <td>10.28</td>\n",
       "      <td>0.03</td>\n",
       "      <td>0.060</td>\n",
       "      <td>0.67</td>\n",
       "      <td>0.65</td>\n",
       "      <td>0.650</td>\n",
       "      <td>11.36</td>\n",
       "      <td>0.010</td>\n",
       "      <td>4.20</td>\n",
       "    </tr>\n",
       "  </tbody>\n",
       "</table>\n",
       "<p>6396 rows × 10 columns</p>\n",
       "</div>"
      ],
      "text/plain": [
       "      aluminium  ammonia  arsenic  cadmium  flouride  bacteria  viruses  \\\n",
       "5722       0.08    23.16     0.09    0.050      0.52      0.45    0.008   \n",
       "2337       0.01    23.34     0.04    0.002      0.88      0.59    0.590   \n",
       "1578       4.43    22.58     0.94    0.130      0.59      0.00    0.750   \n",
       "6523       0.10    19.21     0.05    0.070      1.16      0.94    0.940   \n",
       "7619       0.06     0.37     0.01    0.040      0.69      0.00    0.000   \n",
       "...         ...      ...      ...      ...       ...       ...      ...   \n",
       "5226       0.07    16.98     0.08    0.090      0.21      0.00    0.610   \n",
       "5390       0.07     3.24     0.03    0.000      1.38      0.00    0.009   \n",
       "860        2.16    14.73     0.01    0.009      0.47      0.00    0.000   \n",
       "7605       0.05     7.99     0.04    0.100      0.41      0.00    0.000   \n",
       "7270       0.08    10.28     0.03    0.060      0.67      0.65    0.650   \n",
       "\n",
       "      nitrates  mercury  radium  \n",
       "5722     18.71    0.009    5.83  \n",
       "2337      6.40    0.003    1.75  \n",
       "1578      4.66    0.010    1.03  \n",
       "6523      4.18    0.008    1.53  \n",
       "7619     11.19    0.006    2.31  \n",
       "...        ...      ...     ...  \n",
       "5226      3.15    0.010    4.19  \n",
       "5390     19.11    0.005    0.67  \n",
       "860      12.61    0.005    4.45  \n",
       "7605     19.82    0.001    0.76  \n",
       "7270     11.36    0.010    4.20  \n",
       "\n",
       "[6396 rows x 10 columns]"
      ]
     },
     "execution_count": 20,
     "metadata": {},
     "output_type": "execute_result"
    }
   ],
   "source": [
    "x_train"
   ]
  },
  {
   "cell_type": "code",
   "execution_count": 21,
   "id": "98c428bd",
   "metadata": {},
   "outputs": [
    {
     "data": {
      "text/html": [
       "<div>\n",
       "<style scoped>\n",
       "    .dataframe tbody tr th:only-of-type {\n",
       "        vertical-align: middle;\n",
       "    }\n",
       "\n",
       "    .dataframe tbody tr th {\n",
       "        vertical-align: top;\n",
       "    }\n",
       "\n",
       "    .dataframe thead th {\n",
       "        text-align: right;\n",
       "    }\n",
       "</style>\n",
       "<table border=\"1\" class=\"dataframe\">\n",
       "  <thead>\n",
       "    <tr style=\"text-align: right;\">\n",
       "      <th></th>\n",
       "      <th>aluminium</th>\n",
       "      <th>ammonia</th>\n",
       "      <th>arsenic</th>\n",
       "      <th>cadmium</th>\n",
       "      <th>flouride</th>\n",
       "      <th>bacteria</th>\n",
       "      <th>viruses</th>\n",
       "      <th>nitrates</th>\n",
       "      <th>mercury</th>\n",
       "      <th>radium</th>\n",
       "    </tr>\n",
       "  </thead>\n",
       "  <tbody>\n",
       "    <tr>\n",
       "      <th>5488</th>\n",
       "      <td>0.01</td>\n",
       "      <td>0.13</td>\n",
       "      <td>0.09</td>\n",
       "      <td>0.050</td>\n",
       "      <td>1.32</td>\n",
       "      <td>0.00</td>\n",
       "      <td>0.990</td>\n",
       "      <td>17.60</td>\n",
       "      <td>0.003</td>\n",
       "      <td>0.90</td>\n",
       "    </tr>\n",
       "    <tr>\n",
       "      <th>2577</th>\n",
       "      <td>0.27</td>\n",
       "      <td>26.73</td>\n",
       "      <td>0.04</td>\n",
       "      <td>0.007</td>\n",
       "      <td>0.26</td>\n",
       "      <td>0.55</td>\n",
       "      <td>0.550</td>\n",
       "      <td>1.74</td>\n",
       "      <td>0.008</td>\n",
       "      <td>1.34</td>\n",
       "    </tr>\n",
       "    <tr>\n",
       "      <th>3692</th>\n",
       "      <td>0.02</td>\n",
       "      <td>17.13</td>\n",
       "      <td>0.26</td>\n",
       "      <td>0.110</td>\n",
       "      <td>0.13</td>\n",
       "      <td>0.94</td>\n",
       "      <td>0.940</td>\n",
       "      <td>6.06</td>\n",
       "      <td>0.002</td>\n",
       "      <td>4.64</td>\n",
       "    </tr>\n",
       "    <tr>\n",
       "      <th>7465</th>\n",
       "      <td>0.01</td>\n",
       "      <td>3.25</td>\n",
       "      <td>0.07</td>\n",
       "      <td>0.060</td>\n",
       "      <td>1.29</td>\n",
       "      <td>0.00</td>\n",
       "      <td>0.000</td>\n",
       "      <td>17.04</td>\n",
       "      <td>0.004</td>\n",
       "      <td>4.98</td>\n",
       "    </tr>\n",
       "    <tr>\n",
       "      <th>7564</th>\n",
       "      <td>0.02</td>\n",
       "      <td>1.95</td>\n",
       "      <td>0.07</td>\n",
       "      <td>0.010</td>\n",
       "      <td>0.33</td>\n",
       "      <td>0.00</td>\n",
       "      <td>0.000</td>\n",
       "      <td>2.46</td>\n",
       "      <td>0.000</td>\n",
       "      <td>1.46</td>\n",
       "    </tr>\n",
       "    <tr>\n",
       "      <th>...</th>\n",
       "      <td>...</td>\n",
       "      <td>...</td>\n",
       "      <td>...</td>\n",
       "      <td>...</td>\n",
       "      <td>...</td>\n",
       "      <td>...</td>\n",
       "      <td>...</td>\n",
       "      <td>...</td>\n",
       "      <td>...</td>\n",
       "      <td>...</td>\n",
       "    </tr>\n",
       "    <tr>\n",
       "      <th>6574</th>\n",
       "      <td>0.01</td>\n",
       "      <td>26.45</td>\n",
       "      <td>0.07</td>\n",
       "      <td>0.080</td>\n",
       "      <td>0.80</td>\n",
       "      <td>0.13</td>\n",
       "      <td>0.009</td>\n",
       "      <td>16.11</td>\n",
       "      <td>0.006</td>\n",
       "      <td>0.12</td>\n",
       "    </tr>\n",
       "    <tr>\n",
       "      <th>1115</th>\n",
       "      <td>3.83</td>\n",
       "      <td>19.07</td>\n",
       "      <td>0.92</td>\n",
       "      <td>0.110</td>\n",
       "      <td>0.50</td>\n",
       "      <td>0.00</td>\n",
       "      <td>0.000</td>\n",
       "      <td>18.97</td>\n",
       "      <td>0.001</td>\n",
       "      <td>3.09</td>\n",
       "    </tr>\n",
       "    <tr>\n",
       "      <th>7162</th>\n",
       "      <td>0.09</td>\n",
       "      <td>0.22</td>\n",
       "      <td>0.05</td>\n",
       "      <td>0.070</td>\n",
       "      <td>0.79</td>\n",
       "      <td>0.73</td>\n",
       "      <td>0.730</td>\n",
       "      <td>5.33</td>\n",
       "      <td>0.006</td>\n",
       "      <td>2.99</td>\n",
       "    </tr>\n",
       "    <tr>\n",
       "      <th>6734</th>\n",
       "      <td>0.05</td>\n",
       "      <td>11.71</td>\n",
       "      <td>0.08</td>\n",
       "      <td>0.060</td>\n",
       "      <td>1.15</td>\n",
       "      <td>0.97</td>\n",
       "      <td>0.970</td>\n",
       "      <td>13.11</td>\n",
       "      <td>0.007</td>\n",
       "      <td>0.44</td>\n",
       "    </tr>\n",
       "    <tr>\n",
       "      <th>1467</th>\n",
       "      <td>3.01</td>\n",
       "      <td>23.50</td>\n",
       "      <td>0.86</td>\n",
       "      <td>0.090</td>\n",
       "      <td>0.63</td>\n",
       "      <td>0.00</td>\n",
       "      <td>0.007</td>\n",
       "      <td>10.82</td>\n",
       "      <td>0.001</td>\n",
       "      <td>2.24</td>\n",
       "    </tr>\n",
       "  </tbody>\n",
       "</table>\n",
       "<p>1600 rows × 10 columns</p>\n",
       "</div>"
      ],
      "text/plain": [
       "      aluminium  ammonia  arsenic  cadmium  flouride  bacteria  viruses  \\\n",
       "5488       0.01     0.13     0.09    0.050      1.32      0.00    0.990   \n",
       "2577       0.27    26.73     0.04    0.007      0.26      0.55    0.550   \n",
       "3692       0.02    17.13     0.26    0.110      0.13      0.94    0.940   \n",
       "7465       0.01     3.25     0.07    0.060      1.29      0.00    0.000   \n",
       "7564       0.02     1.95     0.07    0.010      0.33      0.00    0.000   \n",
       "...         ...      ...      ...      ...       ...       ...      ...   \n",
       "6574       0.01    26.45     0.07    0.080      0.80      0.13    0.009   \n",
       "1115       3.83    19.07     0.92    0.110      0.50      0.00    0.000   \n",
       "7162       0.09     0.22     0.05    0.070      0.79      0.73    0.730   \n",
       "6734       0.05    11.71     0.08    0.060      1.15      0.97    0.970   \n",
       "1467       3.01    23.50     0.86    0.090      0.63      0.00    0.007   \n",
       "\n",
       "      nitrates  mercury  radium  \n",
       "5488     17.60    0.003    0.90  \n",
       "2577      1.74    0.008    1.34  \n",
       "3692      6.06    0.002    4.64  \n",
       "7465     17.04    0.004    4.98  \n",
       "7564      2.46    0.000    1.46  \n",
       "...        ...      ...     ...  \n",
       "6574     16.11    0.006    0.12  \n",
       "1115     18.97    0.001    3.09  \n",
       "7162      5.33    0.006    2.99  \n",
       "6734     13.11    0.007    0.44  \n",
       "1467     10.82    0.001    2.24  \n",
       "\n",
       "[1600 rows x 10 columns]"
      ]
     },
     "execution_count": 21,
     "metadata": {},
     "output_type": "execute_result"
    }
   ],
   "source": [
    "x_test"
   ]
  },
  {
   "cell_type": "code",
   "execution_count": 22,
   "id": "389856bf",
   "metadata": {},
   "outputs": [
    {
     "data": {
      "text/plain": [
       "5722    0\n",
       "2337    0\n",
       "1578    0\n",
       "6523    0\n",
       "7619    0\n",
       "       ..\n",
       "5226    0\n",
       "5390    0\n",
       "860     1\n",
       "7605    0\n",
       "7270    0\n",
       "Name: is_safe, Length: 6396, dtype: int32"
      ]
     },
     "execution_count": 22,
     "metadata": {},
     "output_type": "execute_result"
    }
   ],
   "source": [
    "y_train"
   ]
  },
  {
   "cell_type": "code",
   "execution_count": 23,
   "id": "103b6d66",
   "metadata": {},
   "outputs": [
    {
     "data": {
      "text/plain": [
       "5488    0\n",
       "2577    0\n",
       "3692    1\n",
       "7465    0\n",
       "7564    0\n",
       "       ..\n",
       "6574    0\n",
       "1115    0\n",
       "7162    0\n",
       "6734    0\n",
       "1467    0\n",
       "Name: is_safe, Length: 1600, dtype: int32"
      ]
     },
     "execution_count": 23,
     "metadata": {},
     "output_type": "execute_result"
    }
   ],
   "source": [
    "y_test"
   ]
  },
  {
   "cell_type": "code",
   "execution_count": 24,
   "id": "fd4e230f",
   "metadata": {},
   "outputs": [
    {
     "data": {
      "text/plain": [
       "is_safe\n",
       "0    5684\n",
       "1     712\n",
       "Name: count, dtype: int64"
      ]
     },
     "execution_count": 24,
     "metadata": {},
     "output_type": "execute_result"
    }
   ],
   "source": [
    "y_train.value_counts()"
   ]
  },
  {
   "cell_type": "code",
   "execution_count": 25,
   "id": "32db2c49",
   "metadata": {},
   "outputs": [
    {
     "data": {
      "image/png": "[encoded data removed]",
      "text/plain": [
       "<Figure size 640x480 with 1 Axes>"
      ]
     },
     "metadata": {},
     "output_type": "display_data"
    }
   ],
   "source": [
    "plt.hist(x_train.iloc[:,0])\n",
    "plt.ylabel('0th column (Aluminium)')\n",
    "plt.show()"
   ]
  },
  {
   "cell_type": "code",
   "execution_count": 26,
   "id": "fc46b0a2",
   "metadata": {},
   "outputs": [
    {
     "data": {
      "image/png": "[encoded data removed]",
      "text/plain": [
       "<Figure size 640x480 with 1 Axes>"
      ]
     },
     "metadata": {},
     "output_type": "display_data"
    },
    {
     "data": {
      "image/png": "[encoded data removed]",
      "text/plain": [
       "<Figure size 640x480 with 1 Axes>"
      ]
     },
     "metadata": {},
     "output_type": "display_data"
    }
   ],
   "source": [
    "# Distribution of output values (0 - not safe, 1 - safe)\n",
    "\n",
    "plt.hist(y_train)\n",
    "plt.ylabel('Output labels (train)')\n",
    "plt.show()\n",
    "\n",
    "plt.hist(y_test)\n",
    "plt.ylabel('Output labels (test)')\n",
    "plt.show()"
   ]
  },
  {
   "cell_type": "code",
   "execution_count": 27,
   "id": "78482c8f",
   "metadata": {},
   "outputs": [],
   "source": [
    "# above unbalanced data, have to normalize (standardization)\n",
    "\n",
    "mean = x_train.mean(axis=0)\n",
    "x_train -= mean\n",
    "std = x_train.std(axis=0)\n",
    "x_train /= std\n",
    "\n",
    "x_test -= mean\n",
    "x_test /= std"
   ]
  },
  {
   "cell_type": "code",
   "execution_count": 28,
   "id": "fb77d805",
   "metadata": {},
   "outputs": [
    {
     "name": "stdout",
     "output_type": "stream",
     "text": [
      "aluminium     0.661098\n",
      "ammonia      14.262189\n",
      "arsenic       0.161044\n",
      "cadmium       0.042567\n",
      "flouride      0.774118\n",
      "bacteria      0.319553\n",
      "viruses       0.329935\n",
      "nitrates      9.728182\n",
      "mercury       0.005162\n",
      "radium        2.910111\n",
      "dtype: float64\n",
      "aluminium    1.263307\n",
      "ammonia      8.892313\n",
      "arsenic      0.253033\n",
      "cadmium      0.036005\n",
      "flouride     0.433950\n",
      "bacteria     0.329248\n",
      "viruses      0.377832\n",
      "nitrates     5.540314\n",
      "mercury      0.002971\n",
      "radium       2.317115\n",
      "dtype: float64\n"
     ]
    }
   ],
   "source": [
    "print(mean)\n",
    "print(std)"
   ]
  },
  {
   "cell_type": "code",
   "execution_count": 29,
   "id": "c56f7312",
   "metadata": {},
   "outputs": [
    {
     "data": {
      "image/png": "[encoded data removed]",
      "text/plain": [
       "<Figure size 640x480 with 1 Axes>"
      ]
     },
     "metadata": {},
     "output_type": "display_data"
    }
   ],
   "source": [
    "plt.hist(x_train.iloc[:,0])\n",
    "plt.ylabel('0th column (Aluminium)')\n",
    "plt.show()"
   ]
  },
  {
   "cell_type": "code",
   "execution_count": 30,
   "id": "7dc51f39",
   "metadata": {},
   "outputs": [
    {
     "name": "stdout",
     "output_type": "stream",
     "text": [
      "(6396, 10)\n",
      "(6396,)\n",
      "(1600, 10)\n",
      "(1600,)\n",
      "      aluminium   ammonia   arsenic   cadmium  flouride  bacteria   viruses  \\\n",
      "5722  -0.459981  1.000618 -0.280770  0.206455 -0.585593  0.396197 -0.852059   \n",
      "2337  -0.515391  1.020860 -0.478372 -1.126697  0.243995  0.821408  0.688308   \n",
      "1578   2.983362  0.935393  3.078474  2.428376 -0.424284 -0.970553  1.111776   \n",
      "\n",
      "      nitrates   mercury    radium  \n",
      "5722  1.621175  1.291459  1.260140  \n",
      "2337 -0.600721 -0.727731 -0.500670  \n",
      "1578 -0.914782  1.627990 -0.811402  \n",
      "5722    0\n",
      "2337    0\n",
      "1578    0\n",
      "Name: is_safe, dtype: int32\n",
      "      aluminium   ammonia   arsenic   cadmium  flouride  bacteria   viruses  \\\n",
      "5488  -0.515391 -1.589259 -0.280770  0.206455  1.257937 -0.970553  1.746979   \n",
      "2577  -0.309582  1.402089 -0.478372 -0.987827 -1.184741  0.699919  0.582440   \n",
      "3692  -0.507476  0.322505  0.391079  1.872896 -1.484315  1.884435  1.614645   \n",
      "\n",
      "      nitrates   mercury    radium  \n",
      "5488  1.420825 -0.727731 -0.867506  \n",
      "2577 -1.441828  0.954927 -0.677615  \n",
      "3692 -0.662089 -1.064263  0.746570  \n",
      "5488    0\n",
      "2577    0\n",
      "3692    1\n",
      "Name: is_safe, dtype: int32\n"
     ]
    }
   ],
   "source": [
    "# Review the dimentions of training and testing set\n",
    "\n",
    "print(x_train.shape)\n",
    "print(y_train.shape)\n",
    "print(x_test.shape)\n",
    "print(y_test.shape)\n",
    "\n",
    "print(x_train.iloc[0:3,])\n",
    "print(y_train.iloc[0:3])\n",
    "print(x_test.iloc[0:3,])\n",
    "print(y_test.iloc[0:3])"
   ]
  },
  {
   "cell_type": "markdown",
   "id": "18687f7f",
   "metadata": {},
   "source": [
    "# Create a Neural Network Model"
   ]
  },
  {
   "cell_type": "code",
   "execution_count": 31,
   "id": "8d3c90e0",
   "metadata": {},
   "outputs": [
    {
     "name": "stdout",
     "output_type": "stream",
     "text": [
      "Model: \"sequential\"\n",
      "_________________________________________________________________\n",
      " Layer (type)                Output Shape              Param #   \n",
      "=================================================================\n",
      " dense (Dense)               (None, 8)                 88        \n",
      "                                                                 \n",
      " dense_1 (Dense)             (None, 4)                 36        \n",
      "                                                                 \n",
      " dense_2 (Dense)             (None, 1)                 5         \n",
      "                                                                 \n",
      "=================================================================\n",
      "Total params: 129\n",
      "Trainable params: 129\n",
      "Non-trainable params: 0\n",
      "_________________________________________________________________\n",
      "None\n"
     ]
    }
   ],
   "source": [
    "# 8 neurons in layer 1\n",
    "# 4 neurons in layer 2\n",
    "# 1 neuron1 in last layer\n",
    "\n",
    "from tensorflow.keras.models import Sequential\n",
    "from tensorflow.keras.layers import Dense\n",
    "\n",
    "model = Sequential()\n",
    "model.add(Dense(8, activation='relu', input_dim = len(x_train.columns)))\n",
    "model.add(Dense(4, activation='relu'))\n",
    "model.add(Dense(1, activation='sigmoid'))\n",
    "print(model.summary())"
   ]
  },
  {
   "cell_type": "markdown",
   "id": "9924e509",
   "metadata": {},
   "source": [
    "# Compile the Model"
   ]
  },
  {
   "cell_type": "code",
   "execution_count": 32,
   "id": "3fe81ddc",
   "metadata": {},
   "outputs": [],
   "source": [
    "model.compile(optimizer='rmsprop', loss='binary_crossentropy', metrics=['accuracy'])"
   ]
  },
  {
   "cell_type": "markdown",
   "id": "9cd51d46",
   "metadata": {},
   "source": [
    "# Train the Model"
   ]
  },
  {
   "cell_type": "code",
   "execution_count": 33,
   "id": "172b86f2",
   "metadata": {},
   "outputs": [],
   "source": [
    "from keras.callbacks import EarlyStopping, ModelCheckpoint\n",
    "callback_a = ModelCheckpoint(filepath = 'my_best_model.hdf5', monitor = 'val_loss', save_best_only = True, save_weights_only = True)\n",
    "callback_b = EarlyStopping(monitor = 'val_loss', mode = 'min', patience = 20, verbose = 1)"
   ]
  },
  {
   "cell_type": "code",
   "execution_count": 34,
   "id": "18d31496",
   "metadata": {},
   "outputs": [
    {
     "name": "stdout",
     "output_type": "stream",
     "text": [
      "Epoch 1/256\n",
      "640/640 [==============================] - 6s 6ms/step - loss: 0.3664 - accuracy: 0.8729 - val_loss: 0.3267 - val_accuracy: 0.8806\n",
      "Epoch 2/256\n",
      "640/640 [==============================] - 3s 5ms/step - loss: 0.2775 - accuracy: 0.8956 - val_loss: 0.3039 - val_accuracy: 0.8881\n",
      "Epoch 3/256\n",
      "640/640 [==============================] - 3s 5ms/step - loss: 0.2639 - accuracy: 0.9001 - val_loss: 0.2885 - val_accuracy: 0.8969\n",
      "Epoch 4/256\n",
      "640/640 [==============================] - 3s 5ms/step - loss: 0.2551 - accuracy: 0.9024 - val_loss: 0.2818 - val_accuracy: 0.8956\n",
      "Epoch 5/256\n",
      "640/640 [==============================] - 3s 5ms/step - loss: 0.2488 - accuracy: 0.9079 - val_loss: 0.2790 - val_accuracy: 0.8956\n",
      "Epoch 6/256\n",
      "640/640 [==============================] - 3s 5ms/step - loss: 0.2443 - accuracy: 0.9101 - val_loss: 0.2687 - val_accuracy: 0.9019\n",
      "Epoch 7/256\n",
      "640/640 [==============================] - 3s 5ms/step - loss: 0.2394 - accuracy: 0.9128 - val_loss: 0.2658 - val_accuracy: 0.9013\n",
      "Epoch 8/256\n",
      "640/640 [==============================] - 3s 5ms/step - loss: 0.2353 - accuracy: 0.9146 - val_loss: 0.2649 - val_accuracy: 0.9019\n",
      "Epoch 9/256\n",
      "640/640 [==============================] - 3s 5ms/step - loss: 0.2313 - accuracy: 0.9165 - val_loss: 0.2581 - val_accuracy: 0.9069\n",
      "Epoch 10/256\n",
      "640/640 [==============================] - 3s 5ms/step - loss: 0.2285 - accuracy: 0.9182 - val_loss: 0.2572 - val_accuracy: 0.9069\n",
      "Epoch 11/256\n",
      "640/640 [==============================] - 3s 5ms/step - loss: 0.2258 - accuracy: 0.9195 - val_loss: 0.2547 - val_accuracy: 0.9087\n",
      "Epoch 12/256\n",
      "640/640 [==============================] - 3s 5ms/step - loss: 0.2238 - accuracy: 0.9199 - val_loss: 0.2519 - val_accuracy: 0.9087\n",
      "Epoch 13/256\n",
      "640/640 [==============================] - 3s 5ms/step - loss: 0.2218 - accuracy: 0.9201 - val_loss: 0.2522 - val_accuracy: 0.9094\n",
      "Epoch 14/256\n",
      "640/640 [==============================] - 3s 5ms/step - loss: 0.2204 - accuracy: 0.9207 - val_loss: 0.2476 - val_accuracy: 0.9112\n",
      "Epoch 15/256\n",
      "640/640 [==============================] - 3s 5ms/step - loss: 0.2192 - accuracy: 0.9228 - val_loss: 0.2462 - val_accuracy: 0.9100\n",
      "Epoch 16/256\n",
      "640/640 [==============================] - 3s 5ms/step - loss: 0.2179 - accuracy: 0.9221 - val_loss: 0.2461 - val_accuracy: 0.9106\n",
      "Epoch 17/256\n",
      "640/640 [==============================] - 3s 4ms/step - loss: 0.2176 - accuracy: 0.9231 - val_loss: 0.2452 - val_accuracy: 0.9106\n",
      "Epoch 18/256\n",
      "640/640 [==============================] - 3s 5ms/step - loss: 0.2162 - accuracy: 0.9234 - val_loss: 0.2422 - val_accuracy: 0.9125\n",
      "Epoch 19/256\n",
      "640/640 [==============================] - 3s 5ms/step - loss: 0.2155 - accuracy: 0.9240 - val_loss: 0.2415 - val_accuracy: 0.9094\n",
      "Epoch 20/256\n",
      "640/640 [==============================] - 3s 5ms/step - loss: 0.2146 - accuracy: 0.9237 - val_loss: 0.2422 - val_accuracy: 0.9112\n",
      "Epoch 21/256\n",
      "640/640 [==============================] - 3s 5ms/step - loss: 0.2143 - accuracy: 0.9246 - val_loss: 0.2460 - val_accuracy: 0.9087\n",
      "Epoch 22/256\n",
      "640/640 [==============================] - 3s 5ms/step - loss: 0.2146 - accuracy: 0.9246 - val_loss: 0.2404 - val_accuracy: 0.9112\n",
      "Epoch 23/256\n",
      "640/640 [==============================] - 3s 5ms/step - loss: 0.2136 - accuracy: 0.9243 - val_loss: 0.2437 - val_accuracy: 0.9094\n",
      "Epoch 24/256\n",
      "640/640 [==============================] - 3s 5ms/step - loss: 0.2132 - accuracy: 0.9240 - val_loss: 0.2402 - val_accuracy: 0.9131\n",
      "Epoch 25/256\n",
      "640/640 [==============================] - 3s 5ms/step - loss: 0.2129 - accuracy: 0.9232 - val_loss: 0.2416 - val_accuracy: 0.9100\n",
      "Epoch 26/256\n",
      "640/640 [==============================] - 3s 5ms/step - loss: 0.2127 - accuracy: 0.9250 - val_loss: 0.2435 - val_accuracy: 0.9075\n",
      "Epoch 27/256\n",
      "640/640 [==============================] - 3s 5ms/step - loss: 0.2122 - accuracy: 0.9245 - val_loss: 0.2405 - val_accuracy: 0.9081\n",
      "Epoch 28/256\n",
      "640/640 [==============================] - 3s 5ms/step - loss: 0.2121 - accuracy: 0.9242 - val_loss: 0.2396 - val_accuracy: 0.9094\n",
      "Epoch 29/256\n",
      "640/640 [==============================] - 3s 5ms/step - loss: 0.2117 - accuracy: 0.9242 - val_loss: 0.2435 - val_accuracy: 0.9050\n",
      "Epoch 30/256\n",
      "640/640 [==============================] - 3s 5ms/step - loss: 0.2118 - accuracy: 0.9240 - val_loss: 0.2398 - val_accuracy: 0.9075\n",
      "Epoch 31/256\n",
      "640/640 [==============================] - 3s 5ms/step - loss: 0.2110 - accuracy: 0.9232 - val_loss: 0.2374 - val_accuracy: 0.9106\n",
      "Epoch 32/256\n",
      "640/640 [==============================] - 3s 5ms/step - loss: 0.2114 - accuracy: 0.9242 - val_loss: 0.2379 - val_accuracy: 0.9075\n",
      "Epoch 33/256\n",
      "640/640 [==============================] - 3s 5ms/step - loss: 0.2107 - accuracy: 0.9243 - val_loss: 0.2358 - val_accuracy: 0.9131\n",
      "Epoch 34/256\n",
      "640/640 [==============================] - 3s 5ms/step - loss: 0.2112 - accuracy: 0.9235 - val_loss: 0.2368 - val_accuracy: 0.9106\n",
      "Epoch 35/256\n",
      "640/640 [==============================] - 3s 5ms/step - loss: 0.2109 - accuracy: 0.9253 - val_loss: 0.2429 - val_accuracy: 0.9075\n",
      "Epoch 36/256\n",
      "640/640 [==============================] - 3s 5ms/step - loss: 0.2111 - accuracy: 0.9246 - val_loss: 0.2353 - val_accuracy: 0.9125\n",
      "Epoch 37/256\n",
      "640/640 [==============================] - 3s 5ms/step - loss: 0.2103 - accuracy: 0.9232 - val_loss: 0.2376 - val_accuracy: 0.9087\n",
      "Epoch 38/256\n",
      "640/640 [==============================] - 3s 5ms/step - loss: 0.2107 - accuracy: 0.9239 - val_loss: 0.2405 - val_accuracy: 0.9050\n",
      "Epoch 39/256\n",
      "640/640 [==============================] - 3s 5ms/step - loss: 0.2104 - accuracy: 0.9234 - val_loss: 0.2388 - val_accuracy: 0.9056\n",
      "Epoch 40/256\n",
      "640/640 [==============================] - 3s 5ms/step - loss: 0.2106 - accuracy: 0.9231 - val_loss: 0.2410 - val_accuracy: 0.9050\n",
      "Epoch 41/256\n",
      "640/640 [==============================] - 3s 5ms/step - loss: 0.2110 - accuracy: 0.9242 - val_loss: 0.2378 - val_accuracy: 0.9038\n",
      "Epoch 42/256\n",
      "640/640 [==============================] - 3s 5ms/step - loss: 0.2105 - accuracy: 0.9232 - val_loss: 0.2358 - val_accuracy: 0.9062\n",
      "Epoch 43/256\n",
      "640/640 [==============================] - 3s 5ms/step - loss: 0.2110 - accuracy: 0.9237 - val_loss: 0.2348 - val_accuracy: 0.9069\n",
      "Epoch 44/256\n",
      "640/640 [==============================] - 3s 5ms/step - loss: 0.2109 - accuracy: 0.9243 - val_loss: 0.2368 - val_accuracy: 0.9038\n",
      "Epoch 45/256\n",
      "640/640 [==============================] - 3s 5ms/step - loss: 0.2112 - accuracy: 0.9237 - val_loss: 0.2352 - val_accuracy: 0.9069\n",
      "Epoch 46/256\n",
      "640/640 [==============================] - 3s 5ms/step - loss: 0.2108 - accuracy: 0.9234 - val_loss: 0.2341 - val_accuracy: 0.9081\n",
      "Epoch 47/256\n",
      "640/640 [==============================] - 3s 5ms/step - loss: 0.2109 - accuracy: 0.9229 - val_loss: 0.2352 - val_accuracy: 0.9069\n",
      "Epoch 48/256\n",
      "640/640 [==============================] - 3s 5ms/step - loss: 0.2106 - accuracy: 0.9239 - val_loss: 0.2398 - val_accuracy: 0.9038\n",
      "Epoch 49/256\n",
      "640/640 [==============================] - 3s 5ms/step - loss: 0.2105 - accuracy: 0.9235 - val_loss: 0.2349 - val_accuracy: 0.9112\n",
      "Epoch 50/256\n",
      "640/640 [==============================] - 3s 5ms/step - loss: 0.2109 - accuracy: 0.9237 - val_loss: 0.2382 - val_accuracy: 0.9038\n",
      "Epoch 51/256\n",
      "640/640 [==============================] - 3s 5ms/step - loss: 0.2102 - accuracy: 0.9245 - val_loss: 0.2361 - val_accuracy: 0.9050\n",
      "Epoch 52/256\n",
      "640/640 [==============================] - 3s 5ms/step - loss: 0.2105 - accuracy: 0.9237 - val_loss: 0.2346 - val_accuracy: 0.9062\n",
      "Epoch 53/256\n",
      "640/640 [==============================] - 3s 5ms/step - loss: 0.2103 - accuracy: 0.9226 - val_loss: 0.2370 - val_accuracy: 0.9050\n",
      "Epoch 54/256\n",
      "640/640 [==============================] - 3s 5ms/step - loss: 0.2108 - accuracy: 0.9235 - val_loss: 0.2352 - val_accuracy: 0.9050\n",
      "Epoch 55/256\n",
      "640/640 [==============================] - 3s 5ms/step - loss: 0.2105 - accuracy: 0.9242 - val_loss: 0.2330 - val_accuracy: 0.9069\n",
      "Epoch 56/256\n",
      "640/640 [==============================] - 3s 5ms/step - loss: 0.2103 - accuracy: 0.9229 - val_loss: 0.2354 - val_accuracy: 0.9056\n",
      "Epoch 57/256\n",
      "640/640 [==============================] - 3s 5ms/step - loss: 0.2108 - accuracy: 0.9237 - val_loss: 0.2344 - val_accuracy: 0.9056\n"
     ]
    },
    {
     "name": "stdout",
     "output_type": "stream",
     "text": [
      "Epoch 58/256\n",
      "640/640 [==============================] - 3s 5ms/step - loss: 0.2107 - accuracy: 0.9239 - val_loss: 0.2354 - val_accuracy: 0.9050\n",
      "Epoch 59/256\n",
      "640/640 [==============================] - 3s 5ms/step - loss: 0.2107 - accuracy: 0.9242 - val_loss: 0.2329 - val_accuracy: 0.9069\n",
      "Epoch 60/256\n",
      "640/640 [==============================] - 3s 5ms/step - loss: 0.2104 - accuracy: 0.9229 - val_loss: 0.2330 - val_accuracy: 0.9075\n",
      "Epoch 61/256\n",
      "640/640 [==============================] - 3s 5ms/step - loss: 0.2104 - accuracy: 0.9240 - val_loss: 0.2348 - val_accuracy: 0.9062\n",
      "Epoch 62/256\n",
      "640/640 [==============================] - 3s 5ms/step - loss: 0.2102 - accuracy: 0.9242 - val_loss: 0.2339 - val_accuracy: 0.9075\n",
      "Epoch 63/256\n",
      "640/640 [==============================] - 3s 4ms/step - loss: 0.2100 - accuracy: 0.9237 - val_loss: 0.2399 - val_accuracy: 0.9062\n",
      "Epoch 64/256\n",
      "640/640 [==============================] - 3s 5ms/step - loss: 0.2102 - accuracy: 0.9242 - val_loss: 0.2375 - val_accuracy: 0.9062\n",
      "Epoch 65/256\n",
      "640/640 [==============================] - 3s 5ms/step - loss: 0.2100 - accuracy: 0.9232 - val_loss: 0.2342 - val_accuracy: 0.9062\n",
      "Epoch 66/256\n",
      "640/640 [==============================] - 3s 5ms/step - loss: 0.2102 - accuracy: 0.9245 - val_loss: 0.2361 - val_accuracy: 0.9062\n",
      "Epoch 67/256\n",
      "640/640 [==============================] - 3s 5ms/step - loss: 0.2107 - accuracy: 0.9239 - val_loss: 0.2368 - val_accuracy: 0.9062\n",
      "Epoch 68/256\n",
      "640/640 [==============================] - 3s 4ms/step - loss: 0.2104 - accuracy: 0.9248 - val_loss: 0.2368 - val_accuracy: 0.9044\n",
      "Epoch 69/256\n",
      "640/640 [==============================] - 3s 5ms/step - loss: 0.2099 - accuracy: 0.9228 - val_loss: 0.2331 - val_accuracy: 0.9062\n",
      "Epoch 70/256\n",
      "640/640 [==============================] - 3s 5ms/step - loss: 0.2096 - accuracy: 0.9239 - val_loss: 0.2371 - val_accuracy: 0.9056\n",
      "Epoch 71/256\n",
      "640/640 [==============================] - 3s 5ms/step - loss: 0.2102 - accuracy: 0.9245 - val_loss: 0.2366 - val_accuracy: 0.9062\n",
      "Epoch 72/256\n",
      "640/640 [==============================] - 3s 5ms/step - loss: 0.2106 - accuracy: 0.9246 - val_loss: 0.2367 - val_accuracy: 0.9069\n",
      "Epoch 73/256\n",
      "640/640 [==============================] - 3s 5ms/step - loss: 0.2104 - accuracy: 0.9253 - val_loss: 0.2355 - val_accuracy: 0.9062\n",
      "Epoch 74/256\n",
      "640/640 [==============================] - 3s 5ms/step - loss: 0.2107 - accuracy: 0.9235 - val_loss: 0.2360 - val_accuracy: 0.9056\n",
      "Epoch 75/256\n",
      "640/640 [==============================] - 3s 5ms/step - loss: 0.2101 - accuracy: 0.9240 - val_loss: 0.2365 - val_accuracy: 0.9056\n",
      "Epoch 76/256\n",
      "640/640 [==============================] - 3s 5ms/step - loss: 0.2098 - accuracy: 0.9240 - val_loss: 0.2363 - val_accuracy: 0.9087\n",
      "Epoch 77/256\n",
      "640/640 [==============================] - 3s 5ms/step - loss: 0.2110 - accuracy: 0.9248 - val_loss: 0.2337 - val_accuracy: 0.9075\n",
      "Epoch 78/256\n",
      "640/640 [==============================] - 3s 5ms/step - loss: 0.2096 - accuracy: 0.9248 - val_loss: 0.2362 - val_accuracy: 0.9069\n",
      "Epoch 79/256\n",
      "640/640 [==============================] - 3s 5ms/step - loss: 0.2102 - accuracy: 0.9242 - val_loss: 0.2343 - val_accuracy: 0.9087\n",
      "Epoch 79: early stopping\n"
     ]
    }
   ],
   "source": [
    "history = model.fit(x_train, y_train, validation_data = (x_test, y_test), epochs = 256, batch_size = 10, callbacks = [callback_a, callback_b])\n"
   ]
  },
  {
   "cell_type": "markdown",
   "id": "99fbc414",
   "metadata": {},
   "source": [
    "# Check the Learning Curves"
   ]
  },
  {
   "cell_type": "code",
   "execution_count": 35,
   "id": "0aff0a95",
   "metadata": {},
   "outputs": [
    {
     "name": "stdout",
     "output_type": "stream",
     "text": [
      "{'verbose': 1, 'epochs': 256, 'steps': 640}\n"
     ]
    }
   ],
   "source": [
    "print(history.params)"
   ]
  },
  {
   "cell_type": "code",
   "execution_count": 36,
   "id": "d51164f7",
   "metadata": {},
   "outputs": [
    {
     "data": {
      "image/png": "[encoded data removed]",
      "text/plain": [
       "<Figure size 640x480 with 1 Axes>"
      ]
     },
     "metadata": {},
     "output_type": "display_data"
    }
   ],
   "source": [
    "plt.plot(history.history['accuracy'])\n",
    "plt.plot(history.history['val_accuracy'])\n",
    "\n",
    "plt.ylabel('Acuuracy')\n",
    "plt.xlabel('epoch')\n",
    "plt.legend(['trainnig data', 'testing data'], loc = 'lower right')\n",
    "plt.show()"
   ]
  },
  {
   "cell_type": "code",
   "execution_count": 37,
   "id": "37d9dcac",
   "metadata": {},
   "outputs": [],
   "source": [
    "model.load_weights('my_best_model.hdf5')"
   ]
  },
  {
   "cell_type": "code",
   "execution_count": 38,
   "id": "80d65b3f",
   "metadata": {},
   "outputs": [
    {
     "name": "stdout",
     "output_type": "stream",
     "text": [
      "200/200 [==============================] - 1s 4ms/step - loss: 0.2084 - accuracy: 0.9240\n",
      "['loss', 'accuracy']\n",
      "[0.2084125578403473, 0.9240149855613708]\n",
      "\n",
      "accuracy: 92.40%\n"
     ]
    }
   ],
   "source": [
    "# Evaluate model on the training data\n",
    "\n",
    "scores = model.evaluate(x_train, y_train)\n",
    "print(model.metrics_names)\n",
    "print(scores)\n",
    "print(\"\\n%s: %.2f%%\" % (model.metrics_names[1], scores[1]*100))"
   ]
  },
  {
   "cell_type": "code",
   "execution_count": 39,
   "id": "90534e9a",
   "metadata": {},
   "outputs": [
    {
     "name": "stdout",
     "output_type": "stream",
     "text": [
      "50/50 [==============================] - 0s 4ms/step - loss: 0.2329 - accuracy: 0.9069\n",
      "\n",
      "accuracy: 90.69%\n"
     ]
    }
   ],
   "source": [
    "# Evaluate on validation set\n",
    "\n",
    "scores = model.evaluate(x_test, y_test)\n",
    "print(\"\\n%s: %.2f%%\" % (model.metrics_names[1], scores[1]*100))"
   ]
  },
  {
   "cell_type": "code",
   "execution_count": 40,
   "id": "fa8ca48b",
   "metadata": {},
   "outputs": [
    {
     "name": "stdout",
     "output_type": "stream",
     "text": [
      "      aluminium   ammonia   arsenic   cadmium  flouride  bacteria   viruses  \\\n",
      "5488  -0.515391 -1.589259 -0.280770  0.206455  1.257937 -0.970553  1.746979   \n",
      "2577  -0.309582  1.402089 -0.478372 -0.987827 -1.184741  0.699919  0.582440   \n",
      "3692  -0.507476  0.322505  0.391079  1.872896 -1.484315  1.884435  1.614645   \n",
      "7465  -0.515391 -1.238394 -0.359811  0.484195  1.188805 -0.970553 -0.873232   \n",
      "7564  -0.507476 -1.384588 -0.359811 -0.904505 -1.023432 -0.970553 -0.873232   \n",
      "\n",
      "      nitrates   mercury    radium  \n",
      "5488  1.420825 -0.727731 -0.867506  \n",
      "2577 -1.441828  0.954927 -0.677615  \n",
      "3692 -0.662089 -1.064263  0.746570  \n",
      "7465  1.319748 -0.391200  0.893304  \n",
      "7564 -1.311872 -1.737326 -0.625826  \n",
      "5488    0\n",
      "2577    0\n",
      "3692    1\n",
      "7465    0\n",
      "7564    0\n",
      "Name: is_safe, dtype: int32\n"
     ]
    }
   ],
   "source": [
    "# Check what the model actually predicts\n",
    "\n",
    "print(x_test[0:5])\n",
    "print(y_test[0:5])"
   ]
  },
  {
   "cell_type": "code",
   "execution_count": 41,
   "id": "5cb06431",
   "metadata": {},
   "outputs": [
    {
     "name": "stdout",
     "output_type": "stream",
     "text": [
      "50/50 [==============================] - 0s 3ms/step\n"
     ]
    }
   ],
   "source": [
    "prediction = model.predict(x_test)"
   ]
  },
  {
   "cell_type": "code",
   "execution_count": 42,
   "id": "e1029818",
   "metadata": {},
   "outputs": [
    {
     "name": "stdout",
     "output_type": "stream",
     "text": [
      "[[0.00065484]\n",
      " [0.38322607]\n",
      " [0.00464926]\n",
      " [0.03640389]\n",
      " [0.09073002]\n",
      " [0.01453923]\n",
      " [0.01112388]\n",
      " [0.07342947]\n",
      " [0.0749556 ]\n",
      " [0.02371067]]\n"
     ]
    }
   ],
   "source": [
    "print(prediction[0:10])"
   ]
  },
  {
   "cell_type": "code",
   "execution_count": 43,
   "id": "9bcb9f8d",
   "metadata": {},
   "outputs": [
    {
     "name": "stdout",
     "output_type": "stream",
     "text": [
      "[[0.  ]\n",
      " [0.38]\n",
      " [0.  ]\n",
      " [0.04]\n",
      " [0.09]\n",
      " [0.01]\n",
      " [0.01]\n",
      " [0.07]\n",
      " [0.07]\n",
      " [0.02]]\n"
     ]
    }
   ],
   "source": [
    "print(prediction[0:10].round(2))"
   ]
  },
  {
   "cell_type": "code",
   "execution_count": 44,
   "id": "2b91db44",
   "metadata": {},
   "outputs": [
    {
     "data": {
      "image/png": "[encoded data removed]",
      "text/plain": [
       "<Figure size 640x480 with 1 Axes>"
      ]
     },
     "metadata": {},
     "output_type": "display_data"
    }
   ],
   "source": [
    "plt.plot(y_test, prediction, '.', alpha = 0.3)\n",
    "plt.xlabel('Correct labels')\n",
    "plt.ylabel('Predicted confidense scores')\n",
    "plt.show()"
   ]
  },
  {
   "cell_type": "code",
   "execution_count": 45,
   "id": "f4579d3c",
   "metadata": {},
   "outputs": [
    {
     "name": "stdout",
     "output_type": "stream",
     "text": [
      "Accuracy: 90.69%\n",
      "Precision: 67.59%\n",
      "Recall: 49.00%\n",
      "F1-score: 0.57%\n"
     ]
    }
   ],
   "source": [
    "# Is 'accuracy' sufficient to evaluate the model?\n",
    "\n",
    "from sklearn.metrics import accuracy_score, precision_score, recall_score, f1_score\n",
    "\n",
    "accuracy = accuracy_score(y_test, prediction.round())\n",
    "precision = precision_score(y_test, prediction.round())\n",
    "recall = recall_score(y_test, prediction.round())\n",
    "f1score = f1_score(y_test, prediction.round())\n",
    "\n",
    "print(\"Accuracy: %.2f%%\" % (accuracy * 100.0))\n",
    "print(\"Precision: %.2f%%\" % (precision * 100.0))\n",
    "print(\"Recall: %.2f%%\" % (recall * 100.0))\n",
    "print(\"F1-score: %.2f%%\" % (f1score))"
   ]
  },
  {
   "cell_type": "code",
   "execution_count": 46,
   "id": "e4599afa",
   "metadata": {},
   "outputs": [],
   "source": [
    "# Improvement of performance\n",
    "\n"
   ]
  },
  {
   "cell_type": "code",
   "execution_count": 47,
   "id": "27b46c8d",
   "metadata": {},
   "outputs": [
    {
     "name": "stdout",
     "output_type": "stream",
     "text": [
      "50/50 [==============================] - 0s 3ms/step\n"
     ]
    },
    {
     "data": {
      "text/plain": [
       "array([[0.00065484],\n",
       "       [0.38322607],\n",
       "       [0.00464926],\n",
       "       ...,\n",
       "       [0.0269655 ],\n",
       "       [0.00934985],\n",
       "       [0.02463257]], dtype=float32)"
      ]
     },
     "execution_count": 47,
     "metadata": {},
     "output_type": "execute_result"
    }
   ],
   "source": [
    "model.predict(x_test)"
   ]
  },
  {
   "cell_type": "markdown",
   "id": "365c7c49",
   "metadata": {},
   "source": [
    "# Re-training the Model"
   ]
  },
  {
   "cell_type": "code",
   "execution_count": 48,
   "id": "9946654b",
   "metadata": {},
   "outputs": [
    {
     "name": "stdout",
     "output_type": "stream",
     "text": [
      "Epoch 1/128\n",
      "640/640 [==============================] - 3s 5ms/step - loss: 0.2101 - accuracy: 0.9234 - val_loss: 0.2416 - val_accuracy: 0.9038\n",
      "Epoch 2/128\n",
      "640/640 [==============================] - 3s 5ms/step - loss: 0.2109 - accuracy: 0.9232 - val_loss: 0.2347 - val_accuracy: 0.9069\n",
      "Epoch 3/128\n",
      "640/640 [==============================] - 3s 5ms/step - loss: 0.2111 - accuracy: 0.9234 - val_loss: 0.2342 - val_accuracy: 0.9069\n",
      "Epoch 4/128\n",
      "640/640 [==============================] - 3s 5ms/step - loss: 0.2108 - accuracy: 0.9237 - val_loss: 0.2326 - val_accuracy: 0.9062\n",
      "Epoch 5/128\n",
      "640/640 [==============================] - 3s 5ms/step - loss: 0.2104 - accuracy: 0.9242 - val_loss: 0.2323 - val_accuracy: 0.9075\n",
      "Epoch 6/128\n",
      "640/640 [==============================] - 3s 5ms/step - loss: 0.2103 - accuracy: 0.9234 - val_loss: 0.2354 - val_accuracy: 0.9056\n",
      "Epoch 7/128\n",
      "640/640 [==============================] - 3s 5ms/step - loss: 0.2108 - accuracy: 0.9235 - val_loss: 0.2347 - val_accuracy: 0.9056\n",
      "Epoch 8/128\n",
      "640/640 [==============================] - 3s 5ms/step - loss: 0.2101 - accuracy: 0.9240 - val_loss: 0.2345 - val_accuracy: 0.9062\n",
      "Epoch 9/128\n",
      "640/640 [==============================] - 3s 5ms/step - loss: 0.2102 - accuracy: 0.9239 - val_loss: 0.2377 - val_accuracy: 0.9056\n",
      "Epoch 10/128\n",
      "640/640 [==============================] - 3s 5ms/step - loss: 0.2104 - accuracy: 0.9231 - val_loss: 0.2331 - val_accuracy: 0.9075\n",
      "Epoch 11/128\n",
      "640/640 [==============================] - 3s 5ms/step - loss: 0.2101 - accuracy: 0.9251 - val_loss: 0.2347 - val_accuracy: 0.9075\n",
      "Epoch 12/128\n",
      "640/640 [==============================] - 3s 5ms/step - loss: 0.2106 - accuracy: 0.9240 - val_loss: 0.2324 - val_accuracy: 0.9081\n",
      "Epoch 13/128\n",
      "640/640 [==============================] - 3s 5ms/step - loss: 0.2100 - accuracy: 0.9239 - val_loss: 0.2363 - val_accuracy: 0.9069\n",
      "Epoch 14/128\n",
      "640/640 [==============================] - 3s 5ms/step - loss: 0.2102 - accuracy: 0.9246 - val_loss: 0.2351 - val_accuracy: 0.9075\n",
      "Epoch 15/128\n",
      "640/640 [==============================] - 3s 5ms/step - loss: 0.2100 - accuracy: 0.9234 - val_loss: 0.2339 - val_accuracy: 0.9075\n",
      "Epoch 16/128\n",
      "640/640 [==============================] - 3s 5ms/step - loss: 0.2107 - accuracy: 0.9242 - val_loss: 0.2316 - val_accuracy: 0.9081\n",
      "Epoch 17/128\n",
      "640/640 [==============================] - 3s 5ms/step - loss: 0.2100 - accuracy: 0.9234 - val_loss: 0.2327 - val_accuracy: 0.9087\n",
      "Epoch 18/128\n",
      "640/640 [==============================] - 3s 5ms/step - loss: 0.2101 - accuracy: 0.9240 - val_loss: 0.2351 - val_accuracy: 0.9062\n",
      "Epoch 19/128\n",
      "640/640 [==============================] - 3s 5ms/step - loss: 0.2100 - accuracy: 0.9240 - val_loss: 0.2337 - val_accuracy: 0.9087\n",
      "Epoch 20/128\n",
      "640/640 [==============================] - 3s 5ms/step - loss: 0.2097 - accuracy: 0.9246 - val_loss: 0.2343 - val_accuracy: 0.9069\n",
      "Epoch 21/128\n",
      "640/640 [==============================] - 3s 5ms/step - loss: 0.2099 - accuracy: 0.9246 - val_loss: 0.2328 - val_accuracy: 0.9075\n",
      "Epoch 22/128\n",
      "640/640 [==============================] - 3s 5ms/step - loss: 0.2102 - accuracy: 0.9235 - val_loss: 0.2355 - val_accuracy: 0.9081\n",
      "Epoch 23/128\n",
      "640/640 [==============================] - 3s 5ms/step - loss: 0.2099 - accuracy: 0.9256 - val_loss: 0.2332 - val_accuracy: 0.9081\n",
      "Epoch 24/128\n",
      "640/640 [==============================] - 3s 5ms/step - loss: 0.2104 - accuracy: 0.9235 - val_loss: 0.2325 - val_accuracy: 0.9094\n",
      "Epoch 25/128\n",
      "640/640 [==============================] - 3s 5ms/step - loss: 0.2103 - accuracy: 0.9228 - val_loss: 0.2336 - val_accuracy: 0.9069\n",
      "Epoch 26/128\n",
      "640/640 [==============================] - 3s 5ms/step - loss: 0.2103 - accuracy: 0.9243 - val_loss: 0.2310 - val_accuracy: 0.9075\n",
      "Epoch 27/128\n",
      "640/640 [==============================] - 3s 4ms/step - loss: 0.2091 - accuracy: 0.9251 - val_loss: 0.2319 - val_accuracy: 0.9081\n",
      "Epoch 28/128\n",
      "640/640 [==============================] - 3s 5ms/step - loss: 0.2099 - accuracy: 0.9245 - val_loss: 0.2318 - val_accuracy: 0.9075\n",
      "Epoch 29/128\n",
      "640/640 [==============================] - 3s 5ms/step - loss: 0.2097 - accuracy: 0.9245 - val_loss: 0.2376 - val_accuracy: 0.9056\n",
      "Epoch 30/128\n",
      "640/640 [==============================] - 3s 5ms/step - loss: 0.2101 - accuracy: 0.9253 - val_loss: 0.2364 - val_accuracy: 0.9056\n",
      "Epoch 31/128\n",
      "640/640 [==============================] - 3s 5ms/step - loss: 0.2099 - accuracy: 0.9250 - val_loss: 0.2313 - val_accuracy: 0.9075\n",
      "Epoch 32/128\n",
      "640/640 [==============================] - 3s 5ms/step - loss: 0.2100 - accuracy: 0.9250 - val_loss: 0.2318 - val_accuracy: 0.9069\n",
      "Epoch 33/128\n",
      "640/640 [==============================] - 3s 5ms/step - loss: 0.2101 - accuracy: 0.9245 - val_loss: 0.2325 - val_accuracy: 0.9056\n",
      "Epoch 34/128\n",
      "640/640 [==============================] - 3s 5ms/step - loss: 0.2099 - accuracy: 0.9242 - val_loss: 0.2329 - val_accuracy: 0.9062\n",
      "Epoch 35/128\n",
      "640/640 [==============================] - 3s 5ms/step - loss: 0.2105 - accuracy: 0.9242 - val_loss: 0.2344 - val_accuracy: 0.9056\n",
      "Epoch 36/128\n",
      "640/640 [==============================] - 3s 5ms/step - loss: 0.2099 - accuracy: 0.9234 - val_loss: 0.2350 - val_accuracy: 0.9069\n",
      "Epoch 37/128\n",
      "640/640 [==============================] - 3s 5ms/step - loss: 0.2102 - accuracy: 0.9242 - val_loss: 0.2384 - val_accuracy: 0.9075\n",
      "Epoch 38/128\n",
      "640/640 [==============================] - 3s 5ms/step - loss: 0.2100 - accuracy: 0.9245 - val_loss: 0.2364 - val_accuracy: 0.9069\n",
      "Epoch 39/128\n",
      "640/640 [==============================] - 3s 5ms/step - loss: 0.2107 - accuracy: 0.9240 - val_loss: 0.2330 - val_accuracy: 0.9069\n",
      "Epoch 40/128\n",
      "640/640 [==============================] - 3s 5ms/step - loss: 0.2101 - accuracy: 0.9246 - val_loss: 0.2318 - val_accuracy: 0.9075\n",
      "Epoch 41/128\n",
      "640/640 [==============================] - 3s 5ms/step - loss: 0.2097 - accuracy: 0.9245 - val_loss: 0.2345 - val_accuracy: 0.9081\n",
      "Epoch 42/128\n",
      "640/640 [==============================] - 3s 5ms/step - loss: 0.2103 - accuracy: 0.9243 - val_loss: 0.2333 - val_accuracy: 0.9081\n",
      "Epoch 43/128\n",
      "640/640 [==============================] - 3s 5ms/step - loss: 0.2103 - accuracy: 0.9248 - val_loss: 0.2335 - val_accuracy: 0.9075\n",
      "Epoch 44/128\n",
      "640/640 [==============================] - 3s 5ms/step - loss: 0.2100 - accuracy: 0.9243 - val_loss: 0.2350 - val_accuracy: 0.9087\n",
      "Epoch 45/128\n",
      "640/640 [==============================] - 3s 5ms/step - loss: 0.2104 - accuracy: 0.9246 - val_loss: 0.2328 - val_accuracy: 0.9062\n",
      "Epoch 46/128\n",
      "640/640 [==============================] - 3s 5ms/step - loss: 0.2099 - accuracy: 0.9254 - val_loss: 0.2341 - val_accuracy: 0.9056\n",
      "Epoch 46: early stopping\n"
     ]
    }
   ],
   "source": [
    "history = model.fit(x_train, y_train, validation_data = (x_test, y_test), epochs = 128, batch_size = 10, callbacks = [callback_a, callback_b])"
   ]
  },
  {
   "cell_type": "code",
   "execution_count": 49,
   "id": "813e2bee",
   "metadata": {},
   "outputs": [
    {
     "data": {
      "image/png": "[encoded data removed]",
      "text/plain": [
       "<Figure size 640x480 with 1 Axes>"
      ]
     },
     "metadata": {},
     "output_type": "display_data"
    }
   ],
   "source": [
    "plt.plot(history.history['accuracy'])\n",
    "plt.plot(history.history['val_accuracy'])\n",
    "\n",
    "plt.ylabel('Acuuracy')\n",
    "plt.xlabel('epoch')\n",
    "plt.legend(['trainnig data', 'testing data'], loc = 'lower right')\n",
    "plt.show()"
   ]
  },
  {
   "cell_type": "code",
   "execution_count": 50,
   "id": "c6926b97",
   "metadata": {},
   "outputs": [],
   "source": [
    "model.load_weights('my_best_model.hdf5')"
   ]
  },
  {
   "cell_type": "code",
   "execution_count": 51,
   "id": "316ebaf8",
   "metadata": {},
   "outputs": [
    {
     "name": "stdout",
     "output_type": "stream",
     "text": [
      "200/200 [==============================] - 1s 3ms/step - loss: 0.2085 - accuracy: 0.9246\n",
      "['loss', 'accuracy']\n",
      "[0.2085248976945877, 0.924640417098999]\n",
      "\n",
      "accuracy: 92.46%\n"
     ]
    }
   ],
   "source": [
    "# Evaluate model on the training data\n",
    "\n",
    "scores = model.evaluate(x_train, y_train)\n",
    "print(model.metrics_names)\n",
    "print(scores)\n",
    "print(\"\\n%s: %.2f%%\" % (model.metrics_names[1], scores[1]*100))"
   ]
  },
  {
   "cell_type": "code",
   "execution_count": 52,
   "id": "d06e1fb1",
   "metadata": {},
   "outputs": [
    {
     "name": "stdout",
     "output_type": "stream",
     "text": [
      "50/50 [==============================] - 0s 4ms/step - loss: 0.2310 - accuracy: 0.9075\n",
      "\n",
      "accuracy: 90.75%\n"
     ]
    }
   ],
   "source": [
    "# Evaluate on validation set\n",
    "\n",
    "scores = model.evaluate(x_test, y_test)\n",
    "print(\"\\n%s: %.2f%%\" % (model.metrics_names[1], scores[1]*100))"
   ]
  },
  {
   "cell_type": "code",
   "execution_count": 53,
   "id": "9a87bdf8",
   "metadata": {},
   "outputs": [
    {
     "name": "stdout",
     "output_type": "stream",
     "text": [
      "50/50 [==============================] - 0s 3ms/step\n"
     ]
    }
   ],
   "source": [
    "prediction = model.predict(x_test)"
   ]
  },
  {
   "cell_type": "code",
   "execution_count": 54,
   "id": "a7c0f72b",
   "metadata": {},
   "outputs": [
    {
     "name": "stdout",
     "output_type": "stream",
     "text": [
      "Accuracy: 90.75%\n",
      "Precision: 67.33%\n",
      "Recall: 50.50%\n",
      "F1-score: 0.58%\n"
     ]
    }
   ],
   "source": [
    "# Is 'accuracy' sufficient to evaluate the model?\n",
    "\n",
    "accuracy = accuracy_score(y_test, prediction.round())\n",
    "precision = precision_score(y_test, prediction.round())\n",
    "recall = recall_score(y_test, prediction.round())\n",
    "f1score = f1_score(y_test, prediction.round())\n",
    "\n",
    "print(\"Accuracy: %.2f%%\" % (accuracy * 100.0))\n",
    "print(\"Precision: %.2f%%\" % (precision * 100.0))\n",
    "print(\"Recall: %.2f%%\" % (recall * 100.0))\n",
    "print(\"F1-score: %.2f%%\" % (f1score))"
   ]
  },
  {
   "cell_type": "code",
   "execution_count": 55,
   "id": "e74088ab",
   "metadata": {},
   "outputs": [
    {
     "name": "stdout",
     "output_type": "stream",
     "text": [
      "Epoch 1/64\n",
      "640/640 [==============================] - 3s 5ms/step - loss: 0.2096 - accuracy: 0.9240 - val_loss: 0.2413 - val_accuracy: 0.9062\n",
      "Epoch 2/64\n",
      "640/640 [==============================] - 3s 5ms/step - loss: 0.2104 - accuracy: 0.9245 - val_loss: 0.2320 - val_accuracy: 0.9081\n",
      "Epoch 3/64\n",
      "640/640 [==============================] - 3s 5ms/step - loss: 0.2098 - accuracy: 0.9242 - val_loss: 0.2317 - val_accuracy: 0.9087\n",
      "Epoch 4/64\n",
      "640/640 [==============================] - 3s 5ms/step - loss: 0.2100 - accuracy: 0.9256 - val_loss: 0.2312 - val_accuracy: 0.9075\n",
      "Epoch 5/64\n",
      "640/640 [==============================] - 3s 5ms/step - loss: 0.2100 - accuracy: 0.9240 - val_loss: 0.2361 - val_accuracy: 0.9056\n",
      "Epoch 6/64\n",
      "640/640 [==============================] - 3s 5ms/step - loss: 0.2102 - accuracy: 0.9243 - val_loss: 0.2341 - val_accuracy: 0.9081\n",
      "Epoch 7/64\n",
      "640/640 [==============================] - 3s 5ms/step - loss: 0.2103 - accuracy: 0.9240 - val_loss: 0.2332 - val_accuracy: 0.9050\n",
      "Epoch 8/64\n",
      "640/640 [==============================] - 3s 5ms/step - loss: 0.2099 - accuracy: 0.9246 - val_loss: 0.2354 - val_accuracy: 0.9062\n",
      "Epoch 9/64\n",
      "640/640 [==============================] - 3s 5ms/step - loss: 0.2099 - accuracy: 0.9251 - val_loss: 0.2370 - val_accuracy: 0.9056\n",
      "Epoch 10/64\n",
      "640/640 [==============================] - 3s 5ms/step - loss: 0.2103 - accuracy: 0.9253 - val_loss: 0.2345 - val_accuracy: 0.9081\n",
      "Epoch 11/64\n",
      "640/640 [==============================] - 3s 5ms/step - loss: 0.2102 - accuracy: 0.9259 - val_loss: 0.2382 - val_accuracy: 0.9069\n",
      "Epoch 12/64\n",
      "640/640 [==============================] - 3s 5ms/step - loss: 0.2109 - accuracy: 0.9240 - val_loss: 0.2367 - val_accuracy: 0.9062\n",
      "Epoch 13/64\n",
      "640/640 [==============================] - 3s 5ms/step - loss: 0.2102 - accuracy: 0.9250 - val_loss: 0.2350 - val_accuracy: 0.9056\n",
      "Epoch 14/64\n",
      "640/640 [==============================] - 3s 5ms/step - loss: 0.2099 - accuracy: 0.9245 - val_loss: 0.2320 - val_accuracy: 0.9087\n",
      "Epoch 15/64\n",
      "640/640 [==============================] - 3s 5ms/step - loss: 0.2102 - accuracy: 0.9243 - val_loss: 0.2320 - val_accuracy: 0.9062\n",
      "Epoch 16/64\n",
      "640/640 [==============================] - 3s 5ms/step - loss: 0.2097 - accuracy: 0.9246 - val_loss: 0.2342 - val_accuracy: 0.9081\n",
      "Epoch 17/64\n",
      "640/640 [==============================] - 3s 5ms/step - loss: 0.2099 - accuracy: 0.9253 - val_loss: 0.2394 - val_accuracy: 0.9056\n",
      "Epoch 18/64\n",
      "640/640 [==============================] - 3s 5ms/step - loss: 0.2098 - accuracy: 0.9248 - val_loss: 0.2345 - val_accuracy: 0.9062\n",
      "Epoch 19/64\n",
      "640/640 [==============================] - 3s 5ms/step - loss: 0.2105 - accuracy: 0.9245 - val_loss: 0.2347 - val_accuracy: 0.9062\n",
      "Epoch 20/64\n",
      "640/640 [==============================] - 3s 5ms/step - loss: 0.2099 - accuracy: 0.9250 - val_loss: 0.2350 - val_accuracy: 0.9056\n",
      "Epoch 21/64\n",
      "640/640 [==============================] - 3s 5ms/step - loss: 0.2103 - accuracy: 0.9257 - val_loss: 0.2362 - val_accuracy: 0.9062\n",
      "Epoch 22/64\n",
      "640/640 [==============================] - 3s 5ms/step - loss: 0.2105 - accuracy: 0.9251 - val_loss: 0.2348 - val_accuracy: 0.9062\n",
      "Epoch 23/64\n",
      "640/640 [==============================] - 3s 5ms/step - loss: 0.2104 - accuracy: 0.9260 - val_loss: 0.2340 - val_accuracy: 0.9056\n",
      "Epoch 24/64\n",
      "640/640 [==============================] - 3s 5ms/step - loss: 0.2098 - accuracy: 0.9242 - val_loss: 0.2405 - val_accuracy: 0.9062\n",
      "Epoch 24: early stopping\n"
     ]
    }
   ],
   "source": [
    "# Re-train - 2\n",
    "\n",
    "history = model.fit(x_train, y_train, validation_data = (x_test, y_test), epochs = 64, batch_size = 10, callbacks = [callback_a, callback_b])"
   ]
  },
  {
   "cell_type": "code",
   "execution_count": 56,
   "id": "67418c55",
   "metadata": {},
   "outputs": [],
   "source": [
    "model.load_weights('my_best_model.hdf5')"
   ]
  },
  {
   "cell_type": "code",
   "execution_count": 57,
   "id": "4ecd0a9b",
   "metadata": {},
   "outputs": [
    {
     "name": "stdout",
     "output_type": "stream",
     "text": [
      "200/200 [==============================] - 1s 3ms/step - loss: 0.2085 - accuracy: 0.9246\n",
      "['loss', 'accuracy']\n",
      "[0.2085248976945877, 0.924640417098999]\n",
      "\n",
      "accuracy: 92.46%\n"
     ]
    }
   ],
   "source": [
    "# Evaluate model on the training data\n",
    "\n",
    "scores = model.evaluate(x_train, y_train)\n",
    "print(model.metrics_names)\n",
    "print(scores)\n",
    "print(\"\\n%s: %.2f%%\" % (model.metrics_names[1], scores[1]*100))"
   ]
  },
  {
   "cell_type": "code",
   "execution_count": 58,
   "id": "4a82466a",
   "metadata": {},
   "outputs": [
    {
     "name": "stdout",
     "output_type": "stream",
     "text": [
      "50/50 [==============================] - 0s 4ms/step - loss: 0.2310 - accuracy: 0.9075\n",
      "\n",
      "accuracy: 90.75%\n"
     ]
    }
   ],
   "source": [
    "# Evaluate on validation set\n",
    "\n",
    "scores = model.evaluate(x_test, y_test)\n",
    "print(\"\\n%s: %.2f%%\" % (model.metrics_names[1], scores[1]*100))"
   ]
  },
  {
   "cell_type": "code",
   "execution_count": 59,
   "id": "badb36a2",
   "metadata": {},
   "outputs": [
    {
     "name": "stdout",
     "output_type": "stream",
     "text": [
      "Epoch 1/100\n",
      "640/640 [==============================] - 3s 5ms/step - loss: 0.2101 - accuracy: 0.9232 - val_loss: 0.2323 - val_accuracy: 0.9069\n",
      "Epoch 2/100\n",
      "640/640 [==============================] - 3s 5ms/step - loss: 0.2097 - accuracy: 0.9234 - val_loss: 0.2317 - val_accuracy: 0.9087\n",
      "Epoch 3/100\n",
      "640/640 [==============================] - 3s 5ms/step - loss: 0.2105 - accuracy: 0.9240 - val_loss: 0.2331 - val_accuracy: 0.9062\n",
      "Epoch 4/100\n",
      "640/640 [==============================] - 3s 5ms/step - loss: 0.2099 - accuracy: 0.9245 - val_loss: 0.2335 - val_accuracy: 0.9075\n",
      "Epoch 5/100\n",
      "640/640 [==============================] - 3s 5ms/step - loss: 0.2100 - accuracy: 0.9242 - val_loss: 0.2329 - val_accuracy: 0.9075\n",
      "Epoch 6/100\n",
      "640/640 [==============================] - 3s 5ms/step - loss: 0.2103 - accuracy: 0.9243 - val_loss: 0.2319 - val_accuracy: 0.9069\n",
      "Epoch 7/100\n",
      "640/640 [==============================] - 3s 5ms/step - loss: 0.2096 - accuracy: 0.9246 - val_loss: 0.2388 - val_accuracy: 0.9050\n",
      "Epoch 8/100\n",
      "640/640 [==============================] - 3s 5ms/step - loss: 0.2097 - accuracy: 0.9246 - val_loss: 0.2332 - val_accuracy: 0.9075\n",
      "Epoch 9/100\n",
      "640/640 [==============================] - 3s 5ms/step - loss: 0.2098 - accuracy: 0.9245 - val_loss: 0.2328 - val_accuracy: 0.9069\n",
      "Epoch 10/100\n",
      "640/640 [==============================] - 3s 5ms/step - loss: 0.2096 - accuracy: 0.9246 - val_loss: 0.2415 - val_accuracy: 0.9050\n",
      "Epoch 11/100\n",
      "640/640 [==============================] - 3s 5ms/step - loss: 0.2101 - accuracy: 0.9248 - val_loss: 0.2359 - val_accuracy: 0.9081\n",
      "Epoch 12/100\n",
      "640/640 [==============================] - 3s 5ms/step - loss: 0.2104 - accuracy: 0.9253 - val_loss: 0.2339 - val_accuracy: 0.9069\n",
      "Epoch 13/100\n",
      "640/640 [==============================] - 3s 4ms/step - loss: 0.2099 - accuracy: 0.9239 - val_loss: 0.2364 - val_accuracy: 0.9075\n",
      "Epoch 14/100\n",
      "640/640 [==============================] - 3s 5ms/step - loss: 0.2100 - accuracy: 0.9256 - val_loss: 0.2343 - val_accuracy: 0.9062\n",
      "Epoch 15/100\n",
      "640/640 [==============================] - 3s 5ms/step - loss: 0.2103 - accuracy: 0.9243 - val_loss: 0.2315 - val_accuracy: 0.9075\n",
      "Epoch 16/100\n",
      "640/640 [==============================] - 3s 5ms/step - loss: 0.2097 - accuracy: 0.9250 - val_loss: 0.2330 - val_accuracy: 0.9069\n",
      "Epoch 17/100\n",
      "640/640 [==============================] - 3s 5ms/step - loss: 0.2101 - accuracy: 0.9239 - val_loss: 0.2329 - val_accuracy: 0.9062\n",
      "Epoch 18/100\n",
      "640/640 [==============================] - 3s 5ms/step - loss: 0.2097 - accuracy: 0.9235 - val_loss: 0.2320 - val_accuracy: 0.9044\n",
      "Epoch 19/100\n",
      "640/640 [==============================] - 3s 5ms/step - loss: 0.2096 - accuracy: 0.9262 - val_loss: 0.2320 - val_accuracy: 0.9056\n",
      "Epoch 20/100\n",
      "640/640 [==============================] - 3s 5ms/step - loss: 0.2096 - accuracy: 0.9245 - val_loss: 0.2341 - val_accuracy: 0.9062\n",
      "Epoch 21/100\n",
      "640/640 [==============================] - 3s 5ms/step - loss: 0.2102 - accuracy: 0.9242 - val_loss: 0.2321 - val_accuracy: 0.9050\n",
      "Epoch 22/100\n",
      "640/640 [==============================] - 3s 5ms/step - loss: 0.2101 - accuracy: 0.9248 - val_loss: 0.2348 - val_accuracy: 0.9069\n",
      "Epoch 23/100\n",
      "640/640 [==============================] - 3s 5ms/step - loss: 0.2099 - accuracy: 0.9246 - val_loss: 0.2328 - val_accuracy: 0.9069\n",
      "Epoch 24/100\n",
      "640/640 [==============================] - 3s 5ms/step - loss: 0.2095 - accuracy: 0.9235 - val_loss: 0.2358 - val_accuracy: 0.9069\n",
      "Epoch 25/100\n",
      "640/640 [==============================] - 3s 5ms/step - loss: 0.2096 - accuracy: 0.9243 - val_loss: 0.2329 - val_accuracy: 0.9081\n",
      "Epoch 26/100\n",
      "640/640 [==============================] - 3s 5ms/step - loss: 0.2104 - accuracy: 0.9235 - val_loss: 0.2363 - val_accuracy: 0.9062\n",
      "Epoch 27/100\n",
      "640/640 [==============================] - 3s 5ms/step - loss: 0.2101 - accuracy: 0.9254 - val_loss: 0.2330 - val_accuracy: 0.9056\n",
      "Epoch 28/100\n",
      "640/640 [==============================] - 3s 5ms/step - loss: 0.2101 - accuracy: 0.9256 - val_loss: 0.2371 - val_accuracy: 0.9062\n",
      "Epoch 29/100\n",
      "640/640 [==============================] - 3s 5ms/step - loss: 0.2106 - accuracy: 0.9254 - val_loss: 0.2350 - val_accuracy: 0.9062\n",
      "Epoch 30/100\n",
      "640/640 [==============================] - 3s 5ms/step - loss: 0.2102 - accuracy: 0.9240 - val_loss: 0.2325 - val_accuracy: 0.9069\n",
      "Epoch 31/100\n",
      "640/640 [==============================] - 3s 5ms/step - loss: 0.2090 - accuracy: 0.9242 - val_loss: 0.2318 - val_accuracy: 0.9087\n",
      "Epoch 32/100\n",
      "640/640 [==============================] - 3s 5ms/step - loss: 0.2105 - accuracy: 0.9237 - val_loss: 0.2333 - val_accuracy: 0.9056\n",
      "Epoch 33/100\n",
      "640/640 [==============================] - 3s 5ms/step - loss: 0.2099 - accuracy: 0.9253 - val_loss: 0.2324 - val_accuracy: 0.9075\n",
      "Epoch 34/100\n",
      "640/640 [==============================] - 3s 5ms/step - loss: 0.2099 - accuracy: 0.9250 - val_loss: 0.2350 - val_accuracy: 0.9062\n",
      "Epoch 35/100\n",
      "640/640 [==============================] - 3s 5ms/step - loss: 0.2100 - accuracy: 0.9250 - val_loss: 0.2377 - val_accuracy: 0.9056\n",
      "Epoch 35: early stopping\n"
     ]
    }
   ],
   "source": [
    "# Re-train - 3\n",
    "\n",
    "history = model.fit(x_train, y_train, validation_data = (x_test, y_test), epochs = 100, batch_size = 10, callbacks = [callback_a, callback_b])"
   ]
  },
  {
   "cell_type": "code",
   "execution_count": 60,
   "id": "68b3564a",
   "metadata": {},
   "outputs": [],
   "source": [
    "model.load_weights('my_best_model.hdf5')"
   ]
  },
  {
   "cell_type": "code",
   "execution_count": 61,
   "id": "a1716cf7",
   "metadata": {},
   "outputs": [
    {
     "name": "stdout",
     "output_type": "stream",
     "text": [
      "200/200 [==============================] - 1s 3ms/step - loss: 0.2085 - accuracy: 0.9246\n",
      "['loss', 'accuracy']\n",
      "[0.2085248976945877, 0.924640417098999]\n",
      "\n",
      "accuracy: 92.46%\n"
     ]
    }
   ],
   "source": [
    "# Evaluate model on the training data\n",
    "\n",
    "scores = model.evaluate(x_train, y_train)\n",
    "print(model.metrics_names)\n",
    "print(scores)\n",
    "print(\"\\n%s: %.2f%%\" % (model.metrics_names[1], scores[1]*100))"
   ]
  },
  {
   "cell_type": "code",
   "execution_count": 62,
   "id": "4166fdd3",
   "metadata": {},
   "outputs": [
    {
     "name": "stdout",
     "output_type": "stream",
     "text": [
      "50/50 [==============================] - 0s 3ms/step - loss: 0.2310 - accuracy: 0.9075\n",
      "\n",
      "accuracy: 90.75%\n"
     ]
    }
   ],
   "source": [
    "# Evaluate on validation set\n",
    "\n",
    "scores = model.evaluate(x_test, y_test)\n",
    "print(\"\\n%s: %.2f%%\" % (model.metrics_names[1], scores[1]*100))"
   ]
  },
  {
   "cell_type": "code",
   "execution_count": 63,
   "id": "52224f2c",
   "metadata": {},
   "outputs": [
    {
     "name": "stdout",
     "output_type": "stream",
     "text": [
      "Epoch 1/250\n",
      "640/640 [==============================] - 3s 5ms/step - loss: 0.2098 - accuracy: 0.9242 - val_loss: 0.2355 - val_accuracy: 0.9069\n",
      "Epoch 2/250\n",
      "640/640 [==============================] - 3s 5ms/step - loss: 0.2097 - accuracy: 0.9243 - val_loss: 0.2320 - val_accuracy: 0.9062\n",
      "Epoch 3/250\n",
      "640/640 [==============================] - 3s 5ms/step - loss: 0.2095 - accuracy: 0.9264 - val_loss: 0.2400 - val_accuracy: 0.9056\n",
      "Epoch 4/250\n",
      "640/640 [==============================] - 3s 5ms/step - loss: 0.2103 - accuracy: 0.9248 - val_loss: 0.2371 - val_accuracy: 0.9062\n",
      "Epoch 5/250\n",
      "640/640 [==============================] - 3s 4ms/step - loss: 0.2105 - accuracy: 0.9235 - val_loss: 0.2327 - val_accuracy: 0.9069\n",
      "Epoch 6/250\n",
      "640/640 [==============================] - 3s 5ms/step - loss: 0.2100 - accuracy: 0.9245 - val_loss: 0.2360 - val_accuracy: 0.9044\n",
      "Epoch 7/250\n",
      "640/640 [==============================] - 3s 5ms/step - loss: 0.2099 - accuracy: 0.9237 - val_loss: 0.2325 - val_accuracy: 0.9075\n",
      "Epoch 8/250\n",
      "640/640 [==============================] - 3s 5ms/step - loss: 0.2096 - accuracy: 0.9243 - val_loss: 0.2334 - val_accuracy: 0.9069\n",
      "Epoch 9/250\n",
      "640/640 [==============================] - 3s 5ms/step - loss: 0.2103 - accuracy: 0.9246 - val_loss: 0.2319 - val_accuracy: 0.9075\n",
      "Epoch 10/250\n",
      "640/640 [==============================] - 3s 5ms/step - loss: 0.2096 - accuracy: 0.9248 - val_loss: 0.2323 - val_accuracy: 0.9081\n",
      "Epoch 11/250\n",
      "640/640 [==============================] - 3s 5ms/step - loss: 0.2099 - accuracy: 0.9240 - val_loss: 0.2323 - val_accuracy: 0.9087\n",
      "Epoch 12/250\n",
      "640/640 [==============================] - 3s 5ms/step - loss: 0.2101 - accuracy: 0.9251 - val_loss: 0.2367 - val_accuracy: 0.9062\n",
      "Epoch 13/250\n",
      "640/640 [==============================] - 3s 5ms/step - loss: 0.2099 - accuracy: 0.9245 - val_loss: 0.2372 - val_accuracy: 0.9056\n",
      "Epoch 14/250\n",
      "640/640 [==============================] - 3s 5ms/step - loss: 0.2102 - accuracy: 0.9248 - val_loss: 0.2340 - val_accuracy: 0.9056\n",
      "Epoch 15/250\n",
      "640/640 [==============================] - 3s 5ms/step - loss: 0.2099 - accuracy: 0.9243 - val_loss: 0.2335 - val_accuracy: 0.9044\n",
      "Epoch 16/250\n",
      "640/640 [==============================] - 3s 5ms/step - loss: 0.2098 - accuracy: 0.9231 - val_loss: 0.2374 - val_accuracy: 0.9069\n",
      "Epoch 17/250\n",
      "640/640 [==============================] - 3s 5ms/step - loss: 0.2100 - accuracy: 0.9250 - val_loss: 0.2329 - val_accuracy: 0.9069\n",
      "Epoch 18/250\n",
      "640/640 [==============================] - 3s 5ms/step - loss: 0.2097 - accuracy: 0.9254 - val_loss: 0.2300 - val_accuracy: 0.9081\n",
      "Epoch 19/250\n",
      "640/640 [==============================] - 3s 5ms/step - loss: 0.2100 - accuracy: 0.9237 - val_loss: 0.2315 - val_accuracy: 0.9062\n",
      "Epoch 20/250\n",
      "640/640 [==============================] - 3s 5ms/step - loss: 0.2094 - accuracy: 0.9243 - val_loss: 0.2326 - val_accuracy: 0.9081\n",
      "Epoch 21/250\n",
      "640/640 [==============================] - 3s 5ms/step - loss: 0.2100 - accuracy: 0.9257 - val_loss: 0.2304 - val_accuracy: 0.9075\n",
      "Epoch 22/250\n",
      "640/640 [==============================] - 3s 5ms/step - loss: 0.2102 - accuracy: 0.9237 - val_loss: 0.2326 - val_accuracy: 0.9075\n",
      "Epoch 23/250\n",
      "640/640 [==============================] - 3s 5ms/step - loss: 0.2094 - accuracy: 0.9253 - val_loss: 0.2338 - val_accuracy: 0.9062\n",
      "Epoch 24/250\n",
      "640/640 [==============================] - 3s 5ms/step - loss: 0.2102 - accuracy: 0.9243 - val_loss: 0.2318 - val_accuracy: 0.9081\n",
      "Epoch 25/250\n",
      "640/640 [==============================] - 3s 5ms/step - loss: 0.2094 - accuracy: 0.9250 - val_loss: 0.2317 - val_accuracy: 0.9069\n",
      "Epoch 26/250\n",
      "640/640 [==============================] - 3s 5ms/step - loss: 0.2098 - accuracy: 0.9246 - val_loss: 0.2332 - val_accuracy: 0.9069\n",
      "Epoch 27/250\n",
      "640/640 [==============================] - 3s 5ms/step - loss: 0.2096 - accuracy: 0.9250 - val_loss: 0.2390 - val_accuracy: 0.9062\n",
      "Epoch 28/250\n",
      "640/640 [==============================] - 3s 5ms/step - loss: 0.2102 - accuracy: 0.9248 - val_loss: 0.2363 - val_accuracy: 0.9056\n",
      "Epoch 29/250\n",
      "640/640 [==============================] - 3s 5ms/step - loss: 0.2102 - accuracy: 0.9248 - val_loss: 0.2321 - val_accuracy: 0.9094\n",
      "Epoch 30/250\n",
      "640/640 [==============================] - 3s 5ms/step - loss: 0.2102 - accuracy: 0.9242 - val_loss: 0.2320 - val_accuracy: 0.9075\n",
      "Epoch 31/250\n",
      "640/640 [==============================] - 3s 5ms/step - loss: 0.2097 - accuracy: 0.9234 - val_loss: 0.2361 - val_accuracy: 0.9069\n",
      "Epoch 32/250\n",
      "640/640 [==============================] - 3s 5ms/step - loss: 0.2097 - accuracy: 0.9246 - val_loss: 0.2346 - val_accuracy: 0.9081\n",
      "Epoch 33/250\n",
      "640/640 [==============================] - 3s 5ms/step - loss: 0.2101 - accuracy: 0.9246 - val_loss: 0.2325 - val_accuracy: 0.9081\n",
      "Epoch 34/250\n",
      "640/640 [==============================] - 3s 5ms/step - loss: 0.2099 - accuracy: 0.9250 - val_loss: 0.2347 - val_accuracy: 0.9075\n",
      "Epoch 35/250\n",
      "640/640 [==============================] - 3s 5ms/step - loss: 0.2099 - accuracy: 0.9253 - val_loss: 0.2365 - val_accuracy: 0.9056\n",
      "Epoch 36/250\n",
      "640/640 [==============================] - 3s 5ms/step - loss: 0.2099 - accuracy: 0.9242 - val_loss: 0.2311 - val_accuracy: 0.9075\n",
      "Epoch 37/250\n",
      "640/640 [==============================] - 3s 5ms/step - loss: 0.2087 - accuracy: 0.9245 - val_loss: 0.2389 - val_accuracy: 0.9056\n",
      "Epoch 38/250\n",
      "640/640 [==============================] - 3s 5ms/step - loss: 0.2102 - accuracy: 0.9250 - val_loss: 0.2328 - val_accuracy: 0.9062\n",
      "Epoch 38: early stopping\n"
     ]
    }
   ],
   "source": [
    "# Re-train - 4\n",
    "\n",
    "history = model.fit(x_train, y_train, validation_data = (x_test, y_test), epochs = 250, batch_size = 10, callbacks = [callback_a, callback_b])"
   ]
  },
  {
   "cell_type": "code",
   "execution_count": 64,
   "id": "42e2de3a",
   "metadata": {},
   "outputs": [],
   "source": [
    "model.load_weights('my_best_model.hdf5')"
   ]
  },
  {
   "cell_type": "code",
   "execution_count": 65,
   "id": "98b223d2",
   "metadata": {},
   "outputs": [
    {
     "name": "stdout",
     "output_type": "stream",
     "text": [
      "200/200 [==============================] - 1s 3ms/step - loss: 0.2087 - accuracy: 0.9245\n",
      "['loss', 'accuracy']\n",
      "[0.20868855714797974, 0.9244840741157532]\n",
      "\n",
      "accuracy: 92.45%\n"
     ]
    }
   ],
   "source": [
    "# Evaluate model on the training data\n",
    "\n",
    "scores = model.evaluate(x_train, y_train)\n",
    "print(model.metrics_names)\n",
    "print(scores)\n",
    "print(\"\\n%s: %.2f%%\" % (model.metrics_names[1], scores[1]*100))"
   ]
  },
  {
   "cell_type": "code",
   "execution_count": 66,
   "id": "3a86fcf7",
   "metadata": {},
   "outputs": [
    {
     "name": "stdout",
     "output_type": "stream",
     "text": [
      "50/50 [==============================] - 0s 4ms/step - loss: 0.2300 - accuracy: 0.9081\n",
      "\n",
      "accuracy: 90.81%\n"
     ]
    }
   ],
   "source": [
    "# Evaluate on validation set\n",
    "\n",
    "scores = model.evaluate(x_test, y_test)\n",
    "print(\"\\n%s: %.2f%%\" % (model.metrics_names[1], scores[1]*100))"
   ]
  },
  {
   "cell_type": "code",
   "execution_count": 67,
   "id": "a3ad0387",
   "metadata": {},
   "outputs": [
    {
     "data": {
      "image/png": "[encoded data removed]",
      "text/plain": [
       "<Figure size 640x480 with 1 Axes>"
      ]
     },
     "metadata": {},
     "output_type": "display_data"
    }
   ],
   "source": [
    "plt.plot(history.history['accuracy'])\n",
    "plt.plot(history.history['val_accuracy'])\n",
    "\n",
    "plt.ylabel('Acuuracy')\n",
    "plt.xlabel('epoch')\n",
    "plt.legend(['trainnig data', 'testing data'], loc = 'lower right')\n",
    "plt.show()"
   ]
  },
  {
   "cell_type": "code",
   "execution_count": 68,
   "id": "81c08bfb",
   "metadata": {},
   "outputs": [
    {
     "name": "stdout",
     "output_type": "stream",
     "text": [
      "Model: \"sequential_1\"\n",
      "_________________________________________________________________\n",
      " Layer (type)                Output Shape              Param #   \n",
      "=================================================================\n",
      " dense_3 (Dense)             (None, 16)                176       \n",
      "                                                                 \n",
      " dense_4 (Dense)             (None, 8)                 136       \n",
      "                                                                 \n",
      " dense_5 (Dense)             (None, 1)                 9         \n",
      "                                                                 \n",
      "=================================================================\n",
      "Total params: 321\n",
      "Trainable params: 321\n",
      "Non-trainable params: 0\n",
      "_________________________________________________________________\n",
      "None\n"
     ]
    }
   ],
   "source": [
    "# 16 neurons in layer 1\n",
    "# 8 neurons in layer 2\n",
    "# 1 neuron1 in last layer\n",
    "\n",
    "from tensorflow.keras.models import Sequential\n",
    "from tensorflow.keras.layers import Dense\n",
    "\n",
    "model = Sequential()\n",
    "model.add(Dense(16, activation='relu', input_dim = len(x_train.columns)))\n",
    "model.add(Dense(8, activation='relu'))\n",
    "model.add(Dense(1, activation='sigmoid'))\n",
    "print(model.summary())"
   ]
  },
  {
   "cell_type": "code",
   "execution_count": 69,
   "id": "4a28c757",
   "metadata": {},
   "outputs": [],
   "source": [
    "model.compile(optimizer='rmsprop', loss='binary_crossentropy', metrics=['accuracy'])"
   ]
  },
  {
   "cell_type": "code",
   "execution_count": 70,
   "id": "42e95ba2",
   "metadata": {},
   "outputs": [],
   "source": [
    "from keras.callbacks import EarlyStopping, ModelCheckpoint\n",
    "callback_a = ModelCheckpoint(filepath = 'my_best_model.hdf5', monitor = 'val_loss', save_best_only = True, save_weights_only = True)\n",
    "callback_b = EarlyStopping(monitor = 'val_loss', mode = 'min', patience = 20, verbose = 1)"
   ]
  },
  {
   "cell_type": "code",
   "execution_count": 71,
   "id": "34672579",
   "metadata": {},
   "outputs": [
    {
     "name": "stdout",
     "output_type": "stream",
     "text": [
      "Epoch 1/256\n",
      "640/640 [==============================] - 5s 5ms/step - loss: 0.3327 - accuracy: 0.8762 - val_loss: 0.3030 - val_accuracy: 0.8806\n",
      "Epoch 2/256\n",
      "640/640 [==============================] - 3s 5ms/step - loss: 0.2642 - accuracy: 0.8995 - val_loss: 0.2852 - val_accuracy: 0.8950\n",
      "Epoch 3/256\n",
      "640/640 [==============================] - 3s 5ms/step - loss: 0.2521 - accuracy: 0.9054 - val_loss: 0.2752 - val_accuracy: 0.8963\n",
      "Epoch 4/256\n",
      "640/640 [==============================] - 3s 5ms/step - loss: 0.2420 - accuracy: 0.9090 - val_loss: 0.2636 - val_accuracy: 0.8981\n",
      "Epoch 5/256\n",
      "640/640 [==============================] - 3s 5ms/step - loss: 0.2334 - accuracy: 0.9146 - val_loss: 0.2560 - val_accuracy: 0.9031\n",
      "Epoch 6/256\n",
      "640/640 [==============================] - 3s 5ms/step - loss: 0.2275 - accuracy: 0.9185 - val_loss: 0.2537 - val_accuracy: 0.9019\n",
      "Epoch 7/256\n",
      "640/640 [==============================] - 3s 5ms/step - loss: 0.2229 - accuracy: 0.9195 - val_loss: 0.2537 - val_accuracy: 0.9050\n",
      "Epoch 8/256\n",
      "640/640 [==============================] - 3s 5ms/step - loss: 0.2192 - accuracy: 0.9209 - val_loss: 0.2482 - val_accuracy: 0.9081\n",
      "Epoch 9/256\n",
      "640/640 [==============================] - 3s 5ms/step - loss: 0.2168 - accuracy: 0.9203 - val_loss: 0.2407 - val_accuracy: 0.9081\n",
      "Epoch 10/256\n",
      "640/640 [==============================] - 3s 5ms/step - loss: 0.2151 - accuracy: 0.9232 - val_loss: 0.2418 - val_accuracy: 0.9075\n",
      "Epoch 11/256\n",
      "640/640 [==============================] - 3s 5ms/step - loss: 0.2141 - accuracy: 0.9223 - val_loss: 0.2406 - val_accuracy: 0.9119\n",
      "Epoch 12/256\n",
      "640/640 [==============================] - 3s 5ms/step - loss: 0.2126 - accuracy: 0.9240 - val_loss: 0.2440 - val_accuracy: 0.9081\n",
      "Epoch 13/256\n",
      "640/640 [==============================] - 3s 5ms/step - loss: 0.2125 - accuracy: 0.9232 - val_loss: 0.2411 - val_accuracy: 0.9106\n",
      "Epoch 14/256\n",
      "640/640 [==============================] - 3s 5ms/step - loss: 0.2112 - accuracy: 0.9246 - val_loss: 0.2400 - val_accuracy: 0.9112\n",
      "Epoch 15/256\n",
      "640/640 [==============================] - 3s 5ms/step - loss: 0.2104 - accuracy: 0.9242 - val_loss: 0.2411 - val_accuracy: 0.9119\n",
      "Epoch 16/256\n",
      "640/640 [==============================] - 3s 4ms/step - loss: 0.2095 - accuracy: 0.9256 - val_loss: 0.2342 - val_accuracy: 0.9112\n",
      "Epoch 17/256\n",
      "640/640 [==============================] - 3s 5ms/step - loss: 0.2096 - accuracy: 0.9246 - val_loss: 0.2363 - val_accuracy: 0.9112\n",
      "Epoch 18/256\n",
      "640/640 [==============================] - 3s 5ms/step - loss: 0.2077 - accuracy: 0.9251 - val_loss: 0.2520 - val_accuracy: 0.9119\n",
      "Epoch 19/256\n",
      "640/640 [==============================] - 3s 5ms/step - loss: 0.2092 - accuracy: 0.9264 - val_loss: 0.2408 - val_accuracy: 0.9112\n",
      "Epoch 20/256\n",
      "640/640 [==============================] - 3s 5ms/step - loss: 0.2078 - accuracy: 0.9256 - val_loss: 0.2392 - val_accuracy: 0.9125\n",
      "Epoch 21/256\n",
      "640/640 [==============================] - 3s 5ms/step - loss: 0.2079 - accuracy: 0.9259 - val_loss: 0.2376 - val_accuracy: 0.9156\n",
      "Epoch 22/256\n",
      "640/640 [==============================] - 3s 5ms/step - loss: 0.2073 - accuracy: 0.9259 - val_loss: 0.2387 - val_accuracy: 0.9112\n",
      "Epoch 23/256\n",
      "640/640 [==============================] - 3s 5ms/step - loss: 0.2065 - accuracy: 0.9264 - val_loss: 0.2419 - val_accuracy: 0.9150\n",
      "Epoch 24/256\n",
      "640/640 [==============================] - 3s 5ms/step - loss: 0.2078 - accuracy: 0.9259 - val_loss: 0.2361 - val_accuracy: 0.9131\n",
      "Epoch 25/256\n",
      "640/640 [==============================] - 3s 5ms/step - loss: 0.2067 - accuracy: 0.9264 - val_loss: 0.2358 - val_accuracy: 0.9131\n",
      "Epoch 26/256\n",
      "640/640 [==============================] - 3s 5ms/step - loss: 0.2064 - accuracy: 0.9264 - val_loss: 0.2385 - val_accuracy: 0.9150\n",
      "Epoch 27/256\n",
      "640/640 [==============================] - 3s 5ms/step - loss: 0.2068 - accuracy: 0.9254 - val_loss: 0.2356 - val_accuracy: 0.9162\n",
      "Epoch 28/256\n",
      "640/640 [==============================] - 3s 5ms/step - loss: 0.2059 - accuracy: 0.9259 - val_loss: 0.2402 - val_accuracy: 0.9137\n",
      "Epoch 29/256\n",
      "640/640 [==============================] - 3s 5ms/step - loss: 0.2062 - accuracy: 0.9260 - val_loss: 0.2357 - val_accuracy: 0.9144\n",
      "Epoch 30/256\n",
      "640/640 [==============================] - 3s 5ms/step - loss: 0.2051 - accuracy: 0.9267 - val_loss: 0.2401 - val_accuracy: 0.9175\n",
      "Epoch 31/256\n",
      "640/640 [==============================] - 3s 5ms/step - loss: 0.2062 - accuracy: 0.9268 - val_loss: 0.2392 - val_accuracy: 0.9144\n",
      "Epoch 32/256\n",
      "640/640 [==============================] - 3s 5ms/step - loss: 0.2057 - accuracy: 0.9253 - val_loss: 0.2449 - val_accuracy: 0.9150\n",
      "Epoch 33/256\n",
      "640/640 [==============================] - 3s 5ms/step - loss: 0.2057 - accuracy: 0.9257 - val_loss: 0.2389 - val_accuracy: 0.9156\n",
      "Epoch 34/256\n",
      "640/640 [==============================] - 3s 5ms/step - loss: 0.2056 - accuracy: 0.9240 - val_loss: 0.2359 - val_accuracy: 0.9144\n",
      "Epoch 35/256\n",
      "640/640 [==============================] - 3s 5ms/step - loss: 0.2057 - accuracy: 0.9251 - val_loss: 0.2366 - val_accuracy: 0.9156\n",
      "Epoch 36/256\n",
      "640/640 [==============================] - 3s 5ms/step - loss: 0.2050 - accuracy: 0.9251 - val_loss: 0.2328 - val_accuracy: 0.9131\n",
      "Epoch 37/256\n",
      "640/640 [==============================] - 3s 5ms/step - loss: 0.2044 - accuracy: 0.9270 - val_loss: 0.2387 - val_accuracy: 0.9162\n",
      "Epoch 38/256\n",
      "640/640 [==============================] - 3s 5ms/step - loss: 0.2046 - accuracy: 0.9254 - val_loss: 0.2399 - val_accuracy: 0.9131\n",
      "Epoch 39/256\n",
      "640/640 [==============================] - 3s 5ms/step - loss: 0.2051 - accuracy: 0.9256 - val_loss: 0.2369 - val_accuracy: 0.9156\n",
      "Epoch 40/256\n",
      "640/640 [==============================] - 3s 5ms/step - loss: 0.2044 - accuracy: 0.9271 - val_loss: 0.2372 - val_accuracy: 0.9144\n",
      "Epoch 41/256\n",
      "640/640 [==============================] - 3s 5ms/step - loss: 0.2048 - accuracy: 0.9270 - val_loss: 0.2360 - val_accuracy: 0.9181\n",
      "Epoch 42/256\n",
      "640/640 [==============================] - 3s 5ms/step - loss: 0.2036 - accuracy: 0.9276 - val_loss: 0.2397 - val_accuracy: 0.9125\n",
      "Epoch 43/256\n",
      "640/640 [==============================] - 3s 5ms/step - loss: 0.2037 - accuracy: 0.9251 - val_loss: 0.2361 - val_accuracy: 0.9144\n",
      "Epoch 44/256\n",
      "640/640 [==============================] - 3s 5ms/step - loss: 0.2036 - accuracy: 0.9239 - val_loss: 0.2360 - val_accuracy: 0.9156\n",
      "Epoch 45/256\n",
      "640/640 [==============================] - 3s 5ms/step - loss: 0.2039 - accuracy: 0.9267 - val_loss: 0.2337 - val_accuracy: 0.9156\n",
      "Epoch 46/256\n",
      "640/640 [==============================] - 3s 5ms/step - loss: 0.2034 - accuracy: 0.9246 - val_loss: 0.2348 - val_accuracy: 0.9137\n",
      "Epoch 47/256\n",
      "640/640 [==============================] - 3s 4ms/step - loss: 0.2044 - accuracy: 0.9240 - val_loss: 0.2314 - val_accuracy: 0.9162\n",
      "Epoch 48/256\n",
      "640/640 [==============================] - 3s 5ms/step - loss: 0.2036 - accuracy: 0.9257 - val_loss: 0.2324 - val_accuracy: 0.9150\n",
      "Epoch 49/256\n",
      "640/640 [==============================] - 3s 5ms/step - loss: 0.2028 - accuracy: 0.9243 - val_loss: 0.2396 - val_accuracy: 0.9137\n",
      "Epoch 50/256\n",
      "640/640 [==============================] - 3s 5ms/step - loss: 0.2037 - accuracy: 0.9250 - val_loss: 0.2328 - val_accuracy: 0.9125\n",
      "Epoch 51/256\n",
      "640/640 [==============================] - 3s 5ms/step - loss: 0.2030 - accuracy: 0.9235 - val_loss: 0.2345 - val_accuracy: 0.9162\n",
      "Epoch 52/256\n",
      "640/640 [==============================] - 3s 4ms/step - loss: 0.2032 - accuracy: 0.9271 - val_loss: 0.2342 - val_accuracy: 0.9131\n",
      "Epoch 53/256\n",
      "640/640 [==============================] - 3s 5ms/step - loss: 0.2025 - accuracy: 0.9267 - val_loss: 0.2327 - val_accuracy: 0.9144\n",
      "Epoch 54/256\n",
      "640/640 [==============================] - 3s 5ms/step - loss: 0.2022 - accuracy: 0.9257 - val_loss: 0.2321 - val_accuracy: 0.9094\n",
      "Epoch 55/256\n",
      "640/640 [==============================] - 3s 5ms/step - loss: 0.2030 - accuracy: 0.9264 - val_loss: 0.2319 - val_accuracy: 0.9125\n",
      "Epoch 56/256\n",
      "640/640 [==============================] - 3s 5ms/step - loss: 0.2032 - accuracy: 0.9264 - val_loss: 0.2359 - val_accuracy: 0.9144\n",
      "Epoch 57/256\n",
      "640/640 [==============================] - 3s 4ms/step - loss: 0.2028 - accuracy: 0.9270 - val_loss: 0.2322 - val_accuracy: 0.9144\n"
     ]
    },
    {
     "name": "stdout",
     "output_type": "stream",
     "text": [
      "Epoch 58/256\n",
      "640/640 [==============================] - 3s 5ms/step - loss: 0.2029 - accuracy: 0.9256 - val_loss: 0.2363 - val_accuracy: 0.9162\n",
      "Epoch 59/256\n",
      "640/640 [==============================] - 3s 5ms/step - loss: 0.2034 - accuracy: 0.9267 - val_loss: 0.2351 - val_accuracy: 0.9112\n",
      "Epoch 60/256\n",
      "640/640 [==============================] - 3s 5ms/step - loss: 0.2025 - accuracy: 0.9270 - val_loss: 0.2335 - val_accuracy: 0.9131\n",
      "Epoch 61/256\n",
      "640/640 [==============================] - 3s 5ms/step - loss: 0.2029 - accuracy: 0.9260 - val_loss: 0.2348 - val_accuracy: 0.9137\n",
      "Epoch 62/256\n",
      "640/640 [==============================] - 3s 5ms/step - loss: 0.2031 - accuracy: 0.9254 - val_loss: 0.2346 - val_accuracy: 0.9125\n",
      "Epoch 63/256\n",
      "640/640 [==============================] - 3s 4ms/step - loss: 0.2026 - accuracy: 0.9276 - val_loss: 0.2386 - val_accuracy: 0.9094\n",
      "Epoch 64/256\n",
      "640/640 [==============================] - 3s 5ms/step - loss: 0.2022 - accuracy: 0.9262 - val_loss: 0.2361 - val_accuracy: 0.9137\n",
      "Epoch 65/256\n",
      "640/640 [==============================] - 3s 5ms/step - loss: 0.2016 - accuracy: 0.9267 - val_loss: 0.2375 - val_accuracy: 0.9144\n",
      "Epoch 66/256\n",
      "640/640 [==============================] - 3s 5ms/step - loss: 0.2025 - accuracy: 0.9273 - val_loss: 0.2345 - val_accuracy: 0.9125\n",
      "Epoch 67/256\n",
      "640/640 [==============================] - 3s 5ms/step - loss: 0.2015 - accuracy: 0.9253 - val_loss: 0.2343 - val_accuracy: 0.9112\n",
      "Epoch 67: early stopping\n"
     ]
    }
   ],
   "source": [
    "history = model.fit(x_train, y_train, validation_data = (x_test, y_test), epochs = 256, batch_size = 10, callbacks = [callback_a, callback_b])\n"
   ]
  },
  {
   "cell_type": "code",
   "execution_count": 72,
   "id": "f6812504",
   "metadata": {},
   "outputs": [],
   "source": [
    "model.load_weights('my_best_model.hdf5')"
   ]
  },
  {
   "cell_type": "code",
   "execution_count": 73,
   "id": "a958f92c",
   "metadata": {},
   "outputs": [
    {
     "name": "stdout",
     "output_type": "stream",
     "text": [
      "200/200 [==============================] - 1s 3ms/step - loss: 0.1988 - accuracy: 0.9264\n",
      "['loss', 'accuracy']\n",
      "[0.19880793988704681, 0.9263602495193481]\n",
      "\n",
      "accuracy: 92.64%\n"
     ]
    }
   ],
   "source": [
    "# Evaluate model on the training data\n",
    "\n",
    "scores = model.evaluate(x_train, y_train)\n",
    "print(model.metrics_names)\n",
    "print(scores)\n",
    "print(\"\\n%s: %.2f%%\" % (model.metrics_names[1], scores[1]*100))"
   ]
  },
  {
   "cell_type": "code",
   "execution_count": 74,
   "id": "1c797330",
   "metadata": {},
   "outputs": [
    {
     "name": "stdout",
     "output_type": "stream",
     "text": [
      "50/50 [==============================] - 0s 4ms/step - loss: 0.2314 - accuracy: 0.9162\n",
      "\n",
      "accuracy: 91.62%\n"
     ]
    }
   ],
   "source": [
    "# Evaluate on validation set\n",
    "\n",
    "scores = model.evaluate(x_test, y_test)\n",
    "print(\"\\n%s: %.2f%%\" % (model.metrics_names[1], scores[1]*100))"
   ]
  },
  {
   "cell_type": "code",
   "execution_count": 75,
   "id": "3ee2d746",
   "metadata": {},
   "outputs": [
    {
     "data": {
      "image/png": "[encoded data removed]",
      "text/plain": [
       "<Figure size 640x480 with 1 Axes>"
      ]
     },
     "metadata": {},
     "output_type": "display_data"
    }
   ],
   "source": [
    "plt.plot(history.history['accuracy'])\n",
    "plt.plot(history.history['val_accuracy'])\n",
    "\n",
    "plt.ylabel('Acuuracy')\n",
    "plt.xlabel('epoch')\n",
    "plt.legend(['trainnig data', 'testing data'], loc = 'lower right')\n",
    "plt.show()"
   ]
  },
  {
   "cell_type": "code",
   "execution_count": 76,
   "id": "19ba9c4f",
   "metadata": {},
   "outputs": [
    {
     "name": "stdout",
     "output_type": "stream",
     "text": [
      "50/50 [==============================] - 0s 3ms/step\n"
     ]
    }
   ],
   "source": [
    "prediction = model.predict(x_test)"
   ]
  },
  {
   "cell_type": "code",
   "execution_count": 77,
   "id": "19788f62",
   "metadata": {},
   "outputs": [
    {
     "data": {
      "image/png": "[encoded data removed]",
      "text/plain": [
       "<Figure size 640x480 with 1 Axes>"
      ]
     },
     "metadata": {},
     "output_type": "display_data"
    }
   ],
   "source": [
    "plt.plot(y_test, prediction, '.', alpha = 0.3)\n",
    "plt.xlabel('Correct labels')\n",
    "plt.ylabel('Predicted confidense scores')\n",
    "plt.show()"
   ]
  },
  {
   "cell_type": "code",
   "execution_count": 78,
   "id": "6295af76",
   "metadata": {},
   "outputs": [
    {
     "name": "stdout",
     "output_type": "stream",
     "text": [
      "Accuracy: 91.62%\n",
      "Precision: 76.61%\n",
      "Recall: 47.50%\n",
      "F1-score: 0.59%\n"
     ]
    }
   ],
   "source": [
    "# Is 'accuracy' sufficient to evaluate the model?\n",
    "\n",
    "from sklearn.metrics import accuracy_score, precision_score, recall_score, f1_score\n",
    "\n",
    "accuracy = accuracy_score(y_test, prediction.round())\n",
    "precision = precision_score(y_test, prediction.round())\n",
    "recall = recall_score(y_test, prediction.round())\n",
    "f1score = f1_score(y_test, prediction.round())\n",
    "\n",
    "print(\"Accuracy: %.2f%%\" % (accuracy * 100.0))\n",
    "print(\"Precision: %.2f%%\" % (precision * 100.0))\n",
    "print(\"Recall: %.2f%%\" % (recall * 100.0))\n",
    "print(\"F1-score: %.2f%%\" % (f1score))"
   ]
  },
  {
   "cell_type": "code",
   "execution_count": null,
   "id": "265b286f",
   "metadata": {},
   "outputs": [],
   "source": []
  }
 ],
 "metadata": {
  "kernelspec": {
   "display_name": "Python 3 (ipykernel)",
   "language": "python",
   "name": "python3"
  },
  "language_info": {
   "codemirror_mode": {
    "name": "ipython",
    "version": 3
   },
   "file_extension": ".py",
   "mimetype": "text/x-python",
   "name": "python",
   "nbconvert_exporter": "python",
   "pygments_lexer": "ipython3",
   "version": "3.10.11"
  }
 },
 "nbformat": 4,
 "nbformat_minor": 5
}
